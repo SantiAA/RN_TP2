{
 "cells": [
  {
   "cell_type": "code",
   "execution_count": 1,
   "id": "8cd1a4ec-9e58-4288-9efb-5bbc2f31ec2e",
   "metadata": {},
   "outputs": [],
   "source": [
    "from os.path import join\n",
    "from os import getcwd\n",
    "from tensorflow import keras\n",
    "from IPython.display import clear_output\n",
    "import pandas as pd\n",
    "import matplotlib.pyplot as plt\n",
    "import numpy as np"
   ]
  },
  {
   "cell_type": "code",
   "execution_count": 2,
   "id": "6c1daead-352f-4aba-9018-f73033fa4021",
   "metadata": {},
   "outputs": [],
   "source": [
    "from sklearn.model_selection import train_test_split\n",
    "from sklearn.model_selection import KFold"
   ]
  },
  {
   "cell_type": "code",
   "execution_count": 3,
   "id": "03dad38b-b36b-460f-a882-0ad73c16428e",
   "metadata": {},
   "outputs": [],
   "source": [
    "from keras import Model\n",
    "from keras.models import Sequential\n",
    "from keras.layers import Dense, Dropout, BatchNormalization, Embedding, Flatten, Input, Concatenate\n",
    "from keras.optimizers import SGD, Adam\n",
    "from keras.callbacks import EarlyStopping, LearningRateScheduler, ModelCheckpoint, TensorBoard\n",
    "from keras.optimizers.schedules import ExponentialDecay\n",
    "from keras.initializers import GlorotNormal\n",
    "from keras.regularizers import l1, l2\n",
    "from keras.losses import MAE, MSE"
   ]
  },
  {
   "cell_type": "code",
   "execution_count": 4,
   "id": "be4270a5-8c76-454f-849a-5557fae503dd",
   "metadata": {},
   "outputs": [],
   "source": [
    "from functions import *\n",
    "checkpoints_path = getcwd()+'\\\\checks_MPL_L'"
   ]
  },
  {
   "cell_type": "markdown",
   "id": "0a38f41f-8353-46a0-9b61-e6c0a3d7b2cf",
   "metadata": {},
   "source": [
    "### Recoleccion de los datos"
   ]
  },
  {
   "cell_type": "code",
   "execution_count": 5,
   "id": "347943ab-a804-4dd0-9fde-603ca5174033",
   "metadata": {},
   "outputs": [
    {
     "data": {
      "text/html": [
       "<div>\n",
       "<style scoped>\n",
       "    .dataframe tbody tr th:only-of-type {\n",
       "        vertical-align: middle;\n",
       "    }\n",
       "\n",
       "    .dataframe tbody tr th {\n",
       "        vertical-align: top;\n",
       "    }\n",
       "\n",
       "    .dataframe thead th {\n",
       "        text-align: right;\n",
       "    }\n",
       "</style>\n",
       "<table border=\"1\" class=\"dataframe\">\n",
       "  <thead>\n",
       "    <tr style=\"text-align: right;\">\n",
       "      <th></th>\n",
       "      <th>age</th>\n",
       "      <th>sex</th>\n",
       "      <th>bmi</th>\n",
       "      <th>children</th>\n",
       "      <th>smoker</th>\n",
       "      <th>region</th>\n",
       "      <th>charges</th>\n",
       "    </tr>\n",
       "  </thead>\n",
       "  <tbody>\n",
       "    <tr>\n",
       "      <th>0</th>\n",
       "      <td>19</td>\n",
       "      <td>female</td>\n",
       "      <td>27.900</td>\n",
       "      <td>0</td>\n",
       "      <td>yes</td>\n",
       "      <td>southwest</td>\n",
       "      <td>16884.92400</td>\n",
       "    </tr>\n",
       "    <tr>\n",
       "      <th>1</th>\n",
       "      <td>18</td>\n",
       "      <td>male</td>\n",
       "      <td>33.770</td>\n",
       "      <td>1</td>\n",
       "      <td>no</td>\n",
       "      <td>southeast</td>\n",
       "      <td>1725.55230</td>\n",
       "    </tr>\n",
       "    <tr>\n",
       "      <th>2</th>\n",
       "      <td>28</td>\n",
       "      <td>male</td>\n",
       "      <td>33.000</td>\n",
       "      <td>3</td>\n",
       "      <td>no</td>\n",
       "      <td>southeast</td>\n",
       "      <td>4449.46200</td>\n",
       "    </tr>\n",
       "    <tr>\n",
       "      <th>3</th>\n",
       "      <td>33</td>\n",
       "      <td>male</td>\n",
       "      <td>22.705</td>\n",
       "      <td>0</td>\n",
       "      <td>no</td>\n",
       "      <td>northwest</td>\n",
       "      <td>21984.47061</td>\n",
       "    </tr>\n",
       "    <tr>\n",
       "      <th>4</th>\n",
       "      <td>32</td>\n",
       "      <td>male</td>\n",
       "      <td>28.880</td>\n",
       "      <td>0</td>\n",
       "      <td>no</td>\n",
       "      <td>northwest</td>\n",
       "      <td>3866.85520</td>\n",
       "    </tr>\n",
       "  </tbody>\n",
       "</table>\n",
       "</div>"
      ],
      "text/plain": [
       "   age     sex     bmi  children smoker     region      charges\n",
       "0   19  female  27.900         0    yes  southwest  16884.92400\n",
       "1   18    male  33.770         1     no  southeast   1725.55230\n",
       "2   28    male  33.000         3     no  southeast   4449.46200\n",
       "3   33    male  22.705         0     no  northwest  21984.47061\n",
       "4   32    male  28.880         0     no  northwest   3866.85520"
      ]
     },
     "execution_count": 5,
     "metadata": {},
     "output_type": "execute_result"
    }
   ],
   "source": [
    "df = pd.read_csv('../../databases/insurance.csv')\n",
    "x_df = df[['age', 'sex', 'bmi', 'children', 'smoker', 'region']]\n",
    "y_df = df['charges']\n",
    "df.head()"
   ]
  },
  {
   "cell_type": "code",
   "execution_count": 6,
   "id": "55c0ae51-2992-4031-a12b-91dc04ede242",
   "metadata": {},
   "outputs": [
    {
     "data": {
      "text/html": [
       "<div>\n",
       "<style scoped>\n",
       "    .dataframe tbody tr th:only-of-type {\n",
       "        vertical-align: middle;\n",
       "    }\n",
       "\n",
       "    .dataframe tbody tr th {\n",
       "        vertical-align: top;\n",
       "    }\n",
       "\n",
       "    .dataframe thead th {\n",
       "        text-align: right;\n",
       "    }\n",
       "</style>\n",
       "<table border=\"1\" class=\"dataframe\">\n",
       "  <thead>\n",
       "    <tr style=\"text-align: right;\">\n",
       "      <th></th>\n",
       "      <th>age</th>\n",
       "      <th>bmi</th>\n",
       "      <th>children</th>\n",
       "      <th>charges</th>\n",
       "    </tr>\n",
       "  </thead>\n",
       "  <tbody>\n",
       "    <tr>\n",
       "      <th>count</th>\n",
       "      <td>1338.000000</td>\n",
       "      <td>1338.000000</td>\n",
       "      <td>1338.000000</td>\n",
       "      <td>1338.000000</td>\n",
       "    </tr>\n",
       "    <tr>\n",
       "      <th>mean</th>\n",
       "      <td>39.207025</td>\n",
       "      <td>30.663397</td>\n",
       "      <td>1.094918</td>\n",
       "      <td>13270.422265</td>\n",
       "    </tr>\n",
       "    <tr>\n",
       "      <th>std</th>\n",
       "      <td>14.049960</td>\n",
       "      <td>6.098187</td>\n",
       "      <td>1.205493</td>\n",
       "      <td>12110.011237</td>\n",
       "    </tr>\n",
       "    <tr>\n",
       "      <th>min</th>\n",
       "      <td>18.000000</td>\n",
       "      <td>15.960000</td>\n",
       "      <td>0.000000</td>\n",
       "      <td>1121.873900</td>\n",
       "    </tr>\n",
       "    <tr>\n",
       "      <th>25%</th>\n",
       "      <td>27.000000</td>\n",
       "      <td>26.296250</td>\n",
       "      <td>0.000000</td>\n",
       "      <td>4740.287150</td>\n",
       "    </tr>\n",
       "    <tr>\n",
       "      <th>50%</th>\n",
       "      <td>39.000000</td>\n",
       "      <td>30.400000</td>\n",
       "      <td>1.000000</td>\n",
       "      <td>9382.033000</td>\n",
       "    </tr>\n",
       "    <tr>\n",
       "      <th>75%</th>\n",
       "      <td>51.000000</td>\n",
       "      <td>34.693750</td>\n",
       "      <td>2.000000</td>\n",
       "      <td>16639.912515</td>\n",
       "    </tr>\n",
       "    <tr>\n",
       "      <th>max</th>\n",
       "      <td>64.000000</td>\n",
       "      <td>53.130000</td>\n",
       "      <td>5.000000</td>\n",
       "      <td>63770.428010</td>\n",
       "    </tr>\n",
       "  </tbody>\n",
       "</table>\n",
       "</div>"
      ],
      "text/plain": [
       "               age          bmi     children       charges\n",
       "count  1338.000000  1338.000000  1338.000000   1338.000000\n",
       "mean     39.207025    30.663397     1.094918  13270.422265\n",
       "std      14.049960     6.098187     1.205493  12110.011237\n",
       "min      18.000000    15.960000     0.000000   1121.873900\n",
       "25%      27.000000    26.296250     0.000000   4740.287150\n",
       "50%      39.000000    30.400000     1.000000   9382.033000\n",
       "75%      51.000000    34.693750     2.000000  16639.912515\n",
       "max      64.000000    53.130000     5.000000  63770.428010"
      ]
     },
     "execution_count": 6,
     "metadata": {},
     "output_type": "execute_result"
    }
   ],
   "source": [
    "df.describe()"
   ]
  },
  {
   "cell_type": "code",
   "execution_count": 7,
   "id": "04f81822-ab88-47b0-ba23-b51863553a76",
   "metadata": {},
   "outputs": [
    {
     "data": {
      "text/html": [
       "<div>\n",
       "<style scoped>\n",
       "    .dataframe tbody tr th:only-of-type {\n",
       "        vertical-align: middle;\n",
       "    }\n",
       "\n",
       "    .dataframe tbody tr th {\n",
       "        vertical-align: top;\n",
       "    }\n",
       "\n",
       "    .dataframe thead th {\n",
       "        text-align: right;\n",
       "    }\n",
       "</style>\n",
       "<table border=\"1\" class=\"dataframe\">\n",
       "  <thead>\n",
       "    <tr style=\"text-align: right;\">\n",
       "      <th></th>\n",
       "      <th>age</th>\n",
       "      <th>sex</th>\n",
       "      <th>bmi</th>\n",
       "      <th>children</th>\n",
       "      <th>smoker</th>\n",
       "      <th>region</th>\n",
       "    </tr>\n",
       "  </thead>\n",
       "  <tbody>\n",
       "    <tr>\n",
       "      <th>0</th>\n",
       "      <td>19</td>\n",
       "      <td>1</td>\n",
       "      <td>27.900</td>\n",
       "      <td>0</td>\n",
       "      <td>1</td>\n",
       "      <td>southwest</td>\n",
       "    </tr>\n",
       "    <tr>\n",
       "      <th>1</th>\n",
       "      <td>18</td>\n",
       "      <td>0</td>\n",
       "      <td>33.770</td>\n",
       "      <td>1</td>\n",
       "      <td>0</td>\n",
       "      <td>southeast</td>\n",
       "    </tr>\n",
       "    <tr>\n",
       "      <th>2</th>\n",
       "      <td>28</td>\n",
       "      <td>0</td>\n",
       "      <td>33.000</td>\n",
       "      <td>3</td>\n",
       "      <td>0</td>\n",
       "      <td>southeast</td>\n",
       "    </tr>\n",
       "    <tr>\n",
       "      <th>3</th>\n",
       "      <td>33</td>\n",
       "      <td>0</td>\n",
       "      <td>22.705</td>\n",
       "      <td>0</td>\n",
       "      <td>0</td>\n",
       "      <td>northwest</td>\n",
       "    </tr>\n",
       "    <tr>\n",
       "      <th>4</th>\n",
       "      <td>32</td>\n",
       "      <td>0</td>\n",
       "      <td>28.880</td>\n",
       "      <td>0</td>\n",
       "      <td>0</td>\n",
       "      <td>northwest</td>\n",
       "    </tr>\n",
       "  </tbody>\n",
       "</table>\n",
       "</div>"
      ],
      "text/plain": [
       "   age  sex     bmi  children  smoker     region\n",
       "0   19    1  27.900         0       1  southwest\n",
       "1   18    0  33.770         1       0  southeast\n",
       "2   28    0  33.000         3       0  southeast\n",
       "3   33    0  22.705         0       0  northwest\n",
       "4   32    0  28.880         0       0  northwest"
      ]
     },
     "execution_count": 7,
     "metadata": {},
     "output_type": "execute_result"
    }
   ],
   "source": [
    "x_df_edit = x_df.copy()\n",
    "replace = {\n",
    "    'sex': {'female':1, 'male':0},\n",
    "    'smoker':{'yes':1, 'no':0}\n",
    "}\n",
    "x_df_edit = x_df_edit.replace(replace)\n",
    "x_df_edit.head()"
   ]
  },
  {
   "cell_type": "code",
   "execution_count": 8,
   "id": "50d4bbbb-2d08-4680-a659-a643b4297ffe",
   "metadata": {},
   "outputs": [
    {
     "data": {
      "text/html": [
       "<div>\n",
       "<style scoped>\n",
       "    .dataframe tbody tr th:only-of-type {\n",
       "        vertical-align: middle;\n",
       "    }\n",
       "\n",
       "    .dataframe tbody tr th {\n",
       "        vertical-align: top;\n",
       "    }\n",
       "\n",
       "    .dataframe thead th {\n",
       "        text-align: right;\n",
       "    }\n",
       "</style>\n",
       "<table border=\"1\" class=\"dataframe\">\n",
       "  <thead>\n",
       "    <tr style=\"text-align: right;\">\n",
       "      <th></th>\n",
       "      <th>age</th>\n",
       "      <th>sex</th>\n",
       "      <th>bmi</th>\n",
       "      <th>children</th>\n",
       "      <th>smoker</th>\n",
       "      <th>region_northeast</th>\n",
       "      <th>region_northwest</th>\n",
       "      <th>region_southeast</th>\n",
       "      <th>region_southwest</th>\n",
       "    </tr>\n",
       "  </thead>\n",
       "  <tbody>\n",
       "    <tr>\n",
       "      <th>0</th>\n",
       "      <td>19</td>\n",
       "      <td>1</td>\n",
       "      <td>27.900</td>\n",
       "      <td>0</td>\n",
       "      <td>1</td>\n",
       "      <td>0</td>\n",
       "      <td>0</td>\n",
       "      <td>0</td>\n",
       "      <td>1</td>\n",
       "    </tr>\n",
       "    <tr>\n",
       "      <th>1</th>\n",
       "      <td>18</td>\n",
       "      <td>0</td>\n",
       "      <td>33.770</td>\n",
       "      <td>1</td>\n",
       "      <td>0</td>\n",
       "      <td>0</td>\n",
       "      <td>0</td>\n",
       "      <td>1</td>\n",
       "      <td>0</td>\n",
       "    </tr>\n",
       "    <tr>\n",
       "      <th>2</th>\n",
       "      <td>28</td>\n",
       "      <td>0</td>\n",
       "      <td>33.000</td>\n",
       "      <td>3</td>\n",
       "      <td>0</td>\n",
       "      <td>0</td>\n",
       "      <td>0</td>\n",
       "      <td>1</td>\n",
       "      <td>0</td>\n",
       "    </tr>\n",
       "    <tr>\n",
       "      <th>3</th>\n",
       "      <td>33</td>\n",
       "      <td>0</td>\n",
       "      <td>22.705</td>\n",
       "      <td>0</td>\n",
       "      <td>0</td>\n",
       "      <td>0</td>\n",
       "      <td>1</td>\n",
       "      <td>0</td>\n",
       "      <td>0</td>\n",
       "    </tr>\n",
       "    <tr>\n",
       "      <th>4</th>\n",
       "      <td>32</td>\n",
       "      <td>0</td>\n",
       "      <td>28.880</td>\n",
       "      <td>0</td>\n",
       "      <td>0</td>\n",
       "      <td>0</td>\n",
       "      <td>1</td>\n",
       "      <td>0</td>\n",
       "      <td>0</td>\n",
       "    </tr>\n",
       "  </tbody>\n",
       "</table>\n",
       "</div>"
      ],
      "text/plain": [
       "   age  sex     bmi  children  smoker  region_northeast  region_northwest  \\\n",
       "0   19    1  27.900         0       1                 0                 0   \n",
       "1   18    0  33.770         1       0                 0                 0   \n",
       "2   28    0  33.000         3       0                 0                 0   \n",
       "3   33    0  22.705         0       0                 0                 1   \n",
       "4   32    0  28.880         0       0                 0                 1   \n",
       "\n",
       "   region_southeast  region_southwest  \n",
       "0                 0                 1  \n",
       "1                 1                 0  \n",
       "2                 1                 0  \n",
       "3                 0                 0  \n",
       "4                 0                 0  "
      ]
     },
     "execution_count": 8,
     "metadata": {},
     "output_type": "execute_result"
    }
   ],
   "source": [
    "x_df_encoded = pd.get_dummies(x_df_edit, columns=['region'])\n",
    "x_df_encoded.head()"
   ]
  },
  {
   "cell_type": "code",
   "execution_count": 9,
   "id": "ccf54de0-b6d6-43a3-a12a-569d6a37568a",
   "metadata": {},
   "outputs": [],
   "source": [
    "# Split dataset into 15% test, 85% train_validation \n",
    "x, x_test, y, y_test = train_test_split(x_df_encoded, y_df, test_size=0.15)"
   ]
  },
  {
   "cell_type": "code",
   "execution_count": 10,
   "id": "bf6ddfce-fdd1-47ef-82c0-96814d7d7032",
   "metadata": {},
   "outputs": [],
   "source": [
    "# dividiendo en validación y train\n",
    "x_train, x_valid, y_train, y_valid = train_test_split(x, y, test_size=0.15)"
   ]
  },
  {
   "cell_type": "markdown",
   "id": "9d06515e-8da6-4fc9-9afe-880241392176",
   "metadata": {},
   "source": [
    "### Definicion de la red simple con una sola capa oculta"
   ]
  },
  {
   "cell_type": "code",
   "execution_count": 11,
   "id": "ed6d9df3-db14-4c3b-a09b-899895db273c",
   "metadata": {},
   "outputs": [
    {
     "name": "stdout",
     "output_type": "stream",
     "text": [
      "Model: \"first_attempt\"\n",
      "_________________________________________________________________\n",
      "Layer (type)                 Output Shape              Param #   \n",
      "=================================================================\n",
      "dense (Dense)                (None, 50)                500       \n",
      "_________________________________________________________________\n",
      "dense_1 (Dense)              (None, 1)                 51        \n",
      "=================================================================\n",
      "Total params: 551\n",
      "Trainable params: 551\n",
      "Non-trainable params: 0\n",
      "_________________________________________________________________\n"
     ]
    }
   ],
   "source": [
    "name = 'first_attempt'\n",
    "checkfile = join(checkpoints_path, name)\n",
    "# Define callbacks\n",
    "checkpoint_callback = ModelCheckpoint(filepath=checkfile, save_weights_only=True, monitor='loss', mode='min', \n",
    "                                           save_best_only=True)\n",
    "callbacks = [checkpoint_callback]\n",
    "# Defining model\n",
    "mlp_model = Sequential(name=name)\n",
    "\n",
    "mlp_model.add(Dense(50, activation='relu', input_shape=(x_train.shape[1],)))\n",
    "mlp_model.add(Dense(1, activation='linear'))\n",
    "\n",
    "mlp_model.compile(optimizer=Adam(learning_rate=0.02), loss='mae', metrics=['mae', 'mse'])\n",
    "mlp_model.summary()"
   ]
  },
  {
   "cell_type": "code",
   "execution_count": 12,
   "id": "23f533ba-f2f2-4594-b237-a75265b50c2a",
   "metadata": {},
   "outputs": [
    {
     "data": {
      "text/html": [
       "<div>\n",
       "<style scoped>\n",
       "    .dataframe tbody tr th:only-of-type {\n",
       "        vertical-align: middle;\n",
       "    }\n",
       "\n",
       "    .dataframe tbody tr th {\n",
       "        vertical-align: top;\n",
       "    }\n",
       "\n",
       "    .dataframe thead th {\n",
       "        text-align: right;\n",
       "    }\n",
       "</style>\n",
       "<table border=\"1\" class=\"dataframe\">\n",
       "  <thead>\n",
       "    <tr style=\"text-align: right;\">\n",
       "      <th></th>\n",
       "      <th>Set</th>\n",
       "      <th>MAE</th>\n",
       "      <th>MSE</th>\n",
       "    </tr>\n",
       "  </thead>\n",
       "  <tbody>\n",
       "    <tr>\n",
       "      <th>0</th>\n",
       "      <td>Train</td>\n",
       "      <td>3180.757122</td>\n",
       "      <td>2.845590e+07</td>\n",
       "    </tr>\n",
       "    <tr>\n",
       "      <th>1</th>\n",
       "      <td>Validacion</td>\n",
       "      <td>2339.301205</td>\n",
       "      <td>4.175271e+07</td>\n",
       "    </tr>\n",
       "  </tbody>\n",
       "</table>\n",
       "</div>"
      ],
      "text/plain": [
       "          Set          MAE           MSE\n",
       "0       Train  3180.757122  2.845590e+07\n",
       "1  Validacion  2339.301205  4.175271e+07"
      ]
     },
     "execution_count": 12,
     "metadata": {},
     "output_type": "execute_result"
    }
   ],
   "source": [
    "history_mlp_0 = mlp_model.fit(x_train, y_train, validation_data=(x_valid, y_valid),\n",
    "                              batch_size=32, epochs=200,\n",
    "                              verbose=1, callbacks=callbacks) \n",
    "# Cargo el mejor modelo entrenado\n",
    "clear_output(wait=True)\n",
    "mlp_model.load_weights(checkfile)\n",
    "verify_model(mlp_model, x_train, y_train, x_valid, y_valid)"
   ]
  },
  {
   "cell_type": "markdown",
   "id": "1ff75514-214b-40f9-b1b5-a5ac3fb1a946",
   "metadata": {},
   "source": [
    "Vamos a probar utilizar mse como loss"
   ]
  },
  {
   "cell_type": "code",
   "execution_count": 13,
   "id": "661df951-98e6-408f-a7df-74b06c4ab5a2",
   "metadata": {},
   "outputs": [
    {
     "data": {
      "text/html": [
       "<div>\n",
       "<style scoped>\n",
       "    .dataframe tbody tr th:only-of-type {\n",
       "        vertical-align: middle;\n",
       "    }\n",
       "\n",
       "    .dataframe tbody tr th {\n",
       "        vertical-align: top;\n",
       "    }\n",
       "\n",
       "    .dataframe thead th {\n",
       "        text-align: right;\n",
       "    }\n",
       "</style>\n",
       "<table border=\"1\" class=\"dataframe\">\n",
       "  <thead>\n",
       "    <tr style=\"text-align: right;\">\n",
       "      <th></th>\n",
       "      <th>Set</th>\n",
       "      <th>MAE</th>\n",
       "      <th>MSE</th>\n",
       "    </tr>\n",
       "  </thead>\n",
       "  <tbody>\n",
       "    <tr>\n",
       "      <th>0</th>\n",
       "      <td>Train</td>\n",
       "      <td>4155.192284</td>\n",
       "      <td>2.687102e+07</td>\n",
       "    </tr>\n",
       "    <tr>\n",
       "      <th>1</th>\n",
       "      <td>Validacion</td>\n",
       "      <td>3560.352327</td>\n",
       "      <td>3.609198e+07</td>\n",
       "    </tr>\n",
       "  </tbody>\n",
       "</table>\n",
       "</div>"
      ],
      "text/plain": [
       "          Set          MAE           MSE\n",
       "0       Train  4155.192284  2.687102e+07\n",
       "1  Validacion  3560.352327  3.609198e+07"
      ]
     },
     "execution_count": 13,
     "metadata": {},
     "output_type": "execute_result"
    }
   ],
   "source": [
    "name = 'mse_loss'\n",
    "checkfile = join(checkpoints_path, name)\n",
    "# Define callbacks\n",
    "checkpoint_callback = ModelCheckpoint(filepath=checkfile, save_weights_only=True, monitor='loss', mode='min', \n",
    "                                           save_best_only=True)\n",
    "callbacks = [checkpoint_callback]\n",
    "# Defining model\n",
    "mlp_model_2 = Sequential(name=name)\n",
    "\n",
    "mlp_model_2.add(Dense(50, activation='relu', input_shape=(x_train.shape[1],)))\n",
    "mlp_model_2.add(Dense(1, activation='linear'))\n",
    "\n",
    "mlp_model_2.compile(optimizer=Adam(learning_rate=0.02), loss='mse', metrics=['mae', 'mse'])\n",
    "print(mlp_model.summary())\n",
    "\n",
    "history_mlp_1 = mlp_model_2.fit(x_train, y_train, validation_data=(x_valid, y_valid),\n",
    "                              batch_size=32, epochs=200,\n",
    "                              verbose=1, callbacks=callbacks) \n",
    "# Cargo el mejor modelo entrenado\n",
    "clear_output(wait=True)\n",
    "mlp_model_2.load_weights(checkfile)\n",
    "verify_model(mlp_model_2, x_train, y_train, x_valid, y_valid)\n"
   ]
  },
  {
   "cell_type": "markdown",
   "id": "2cac525c-c7b5-4c97-953b-3a7dbf34ff08",
   "metadata": {},
   "source": [
    "No hubo mejoras"
   ]
  },
  {
   "cell_type": "markdown",
   "id": "ed5ac338-9e01-486e-b3f7-e8900826c2c6",
   "metadata": {},
   "source": [
    "### Matriz de embedding\n",
    "En lugar de separa la columna de region en 4 columnas separadas como para los modelos anteriores, se procede a codificar cada una de las regiones y utilizar una capa de embedding de dimension 2"
   ]
  },
  {
   "cell_type": "code",
   "execution_count": 14,
   "id": "ad178deb-2847-45d3-99de-4dea6f737ffb",
   "metadata": {},
   "outputs": [],
   "source": [
    "def normalize(dataframe, cols=[], norm_info=None):\n",
    "    replace = {}\n",
    "    data = dataframe.copy()\n",
    "    if norm_info:\n",
    "        replace=norm_info\n",
    "    else:\n",
    "        if len(cols)==0:\n",
    "            cols = dataframe.keys()\n",
    "        for col in cols:\n",
    "            replace[col] = [np.mean(dataframe[col]), np.std(dataframe[col])]\n",
    "    for key in replace:\n",
    "        data[key] = (data[key]-replace[key][0])/replace[key][1]\n",
    "    return data, replace"
   ]
  },
  {
   "cell_type": "code",
   "execution_count": 15,
   "id": "c3c0e8bb-4d7d-4b02-b3be-8e2e408425eb",
   "metadata": {},
   "outputs": [],
   "source": [
    "replace = {\n",
    "    'sex': {'female':1, 'male':0},\n",
    "    'smoker':{'yes':1, 'no':0},\n",
    "    'region':{'northeast':0,'northwest':1, 'southeast':2, 'southwest':3}\n",
    "}\n",
    "x_df_emb = x_df.copy()\n",
    "x_df_emb = x_df_emb.replace(replace)\n",
    "\n",
    "# Split dataset into 15% test, 85% train_validation \n",
    "x_e, x_test_e, y_e, y_test_e = train_test_split(x_df_emb, y_df, test_size=0.15)\n",
    "\n",
    "# dividiendo en validación y train\n",
    "x_train_e, x_valid_e, y_train_e, y_valid_e = train_test_split(x_e, y_e, test_size=0.15)\n"
   ]
  },
  {
   "cell_type": "code",
   "execution_count": 16,
   "id": "68695aac-7651-441d-bacb-22b03d21a067",
   "metadata": {},
   "outputs": [],
   "source": [
    "x_cat_train = x_train_e[['region']]\n",
    "x_num_train = x_train_e[['age',\t'sex',\t'bmi',\t'children',\t'smoker']]\n",
    "x_cat_valid = x_valid_e[['region']]\n",
    "x_num_valid = x_valid_e[['age',\t'sex',\t'bmi',\t'children',\t'smoker']]"
   ]
  },
  {
   "cell_type": "code",
   "execution_count": 17,
   "id": "1b4e0d9e-1f3a-47fc-9dea-7e3b17bac295",
   "metadata": {},
   "outputs": [
    {
     "name": "stdout",
     "output_type": "stream",
     "text": [
      "Model: \"functional_1\"\n",
      "__________________________________________________________________________________________________\n",
      "Layer (type)                    Output Shape         Param #     Connected to                     \n",
      "==================================================================================================\n",
      "input_1 (InputLayer)            [(None, 1)]          0                                            \n",
      "__________________________________________________________________________________________________\n",
      "embedding (Embedding)           (None, 1, 2)         8           input_1[0][0]                    \n",
      "__________________________________________________________________________________________________\n",
      "flatten (Flatten)               (None, 2)            0           embedding[0][0]                  \n",
      "__________________________________________________________________________________________________\n",
      "input_2 (InputLayer)            [(None, 5)]          0                                            \n",
      "__________________________________________________________________________________________________\n",
      "concatenate (Concatenate)       (None, 7)            0           flatten[0][0]                    \n",
      "                                                                 input_2[0][0]                    \n",
      "__________________________________________________________________________________________________\n",
      "dense_4 (Dense)                 (None, 50)           400         concatenate[0][0]                \n",
      "__________________________________________________________________________________________________\n",
      "dense_5 (Dense)                 (None, 1)            51          dense_4[0][0]                    \n",
      "==================================================================================================\n",
      "Total params: 459\n",
      "Trainable params: 459\n",
      "Non-trainable params: 0\n",
      "__________________________________________________________________________________________________\n"
     ]
    }
   ],
   "source": [
    "# Definiendo el modelo\n",
    "name = 'embeded_test'\n",
    "checkfile = join(checkpoints_path, name)\n",
    "# Define callbacks\n",
    "checkpoint_callback = ModelCheckpoint(filepath=checkfile, save_weights_only=True, monitor='loss', mode='min', \n",
    "                                           save_best_only=True)\n",
    "callbacks = [checkpoint_callback]\n",
    "\n",
    "# Input Layers\n",
    "inp_cat = Input(shape=(1,))\n",
    "inp_num = Input(shape=(x_num_train.shape[1],))\n",
    "# Embedding\n",
    "emb = Embedding(input_dim=4, output_dim=2)(inp_cat)\n",
    "flat = Flatten()(emb)\n",
    "# Concatenate layers\n",
    "conc = Concatenate()([flat, inp_num])\n",
    "# Hidden layers\n",
    "dense = Dense(50, activation='relu')(conc)\n",
    "# Output Layer\n",
    "out = Dense(1, activation='linear')(dense)\n",
    "# Create model\n",
    "emb_model = Model(inputs=[inp_cat, inp_num], outputs=out)\n",
    "\n",
    "emb_model.compile(optimizer=Adam(learning_rate=0.02), loss='mae', metrics=['mae', 'mse'])\n",
    "emb_model.summary()"
   ]
  },
  {
   "cell_type": "code",
   "execution_count": 18,
   "id": "616d5c83-53bd-4e61-81e8-0dea221efd28",
   "metadata": {},
   "outputs": [
    {
     "data": {
      "text/html": [
       "<div>\n",
       "<style scoped>\n",
       "    .dataframe tbody tr th:only-of-type {\n",
       "        vertical-align: middle;\n",
       "    }\n",
       "\n",
       "    .dataframe tbody tr th {\n",
       "        vertical-align: top;\n",
       "    }\n",
       "\n",
       "    .dataframe thead th {\n",
       "        text-align: right;\n",
       "    }\n",
       "</style>\n",
       "<table border=\"1\" class=\"dataframe\">\n",
       "  <thead>\n",
       "    <tr style=\"text-align: right;\">\n",
       "      <th></th>\n",
       "      <th>Set</th>\n",
       "      <th>MAE</th>\n",
       "      <th>MSE</th>\n",
       "    </tr>\n",
       "  </thead>\n",
       "  <tbody>\n",
       "    <tr>\n",
       "      <th>0</th>\n",
       "      <td>Train</td>\n",
       "      <td>8233.295654</td>\n",
       "      <td>1.194680e+08</td>\n",
       "    </tr>\n",
       "    <tr>\n",
       "      <th>1</th>\n",
       "      <td>Validacion</td>\n",
       "      <td>7123.021188</td>\n",
       "      <td>1.599036e+08</td>\n",
       "    </tr>\n",
       "  </tbody>\n",
       "</table>\n",
       "</div>"
      ],
      "text/plain": [
       "          Set          MAE           MSE\n",
       "0       Train  8233.295654  1.194680e+08\n",
       "1  Validacion  7123.021188  1.599036e+08"
      ]
     },
     "execution_count": 18,
     "metadata": {},
     "output_type": "execute_result"
    }
   ],
   "source": [
    "# Train model\n",
    "history_mlp_1 = emb_model.fit([x_cat_train, x_num_train], y_train, validation_data=([x_cat_valid, x_num_valid], y_valid),\n",
    "                                batch_size=32, epochs=200,\n",
    "                                verbose=1, callbacks=callbacks)\n",
    "                                 \n",
    "# Cargo el mejor modelo entrenado\n",
    "clear_output(wait=True)\n",
    "emb_model.load_weights(checkfile)\n",
    "verify_model(emb_model, [x_cat_train, x_num_train], y_train, [x_cat_valid, x_num_valid], y_valid)"
   ]
  },
  {
   "cell_type": "markdown",
   "id": "1b29ccbd-b093-4144-b2be-d7ec32a65d1b",
   "metadata": {},
   "source": [
    "### En las 3 pruebas se pudo observar un comportamiento peculiar en el cual los resultados en el set de validación resultan mejores que en el set de train, lo cual lleva a que las metricas obtenidas del modelo esten sujetas a una elevada varianza, para mejorar esto se utilizará k-folding"
   ]
  },
  {
   "cell_type": "markdown",
   "id": "581918a0-c7f7-4312-b0c4-d673b323860c",
   "metadata": {},
   "source": [
    "Ahora vamos a realizar una prueba a fuerza bruta probando utilizar 1 o 2 capaz ocultas, variando la cantidad de neuronas por capa"
   ]
  },
  {
   "cell_type": "code",
   "execution_count": 19,
   "id": "f86a2466-3bb4-4539-848b-75c46fdfddb2",
   "metadata": {},
   "outputs": [],
   "source": [
    "cat = ['region']\n",
    "num = ['age',\t'sex',\t'bmi',\t'children',\t'smoker']\n",
    "\n",
    "def create_model(neuronas,activation):\n",
    "    # Definiendo el modelo\n",
    "    name = 'n{}_act{}'.format(neuronas, activation)\n",
    "    print('Testing ->', name)\n",
    "    # Input Layers\n",
    "    inp_cat = Input(shape=(1,))\n",
    "    inp_num = Input(shape=(len(num),))\n",
    "    # Embedding\n",
    "    emb = Embedding(input_dim=4, output_dim=2)(inp_cat)\n",
    "    flat = Flatten()(emb)\n",
    "    # Concatenate layers\n",
    "    conc = Concatenate()([flat, inp_num])\n",
    "    # Hidden layers\n",
    "    dense = Dense(neuronas, activation=activation)(conc)\n",
    "    # Output Layer\n",
    "    out = Dense(1, activation='linear')(dense)\n",
    "    # Create model\n",
    "    model = Model(inputs=[inp_cat, inp_num], outputs=out)\n",
    "    model.compile(optimizer=Adam(1), loss='mae', metrics=['mae', 'mse'])\n",
    "    return model, name\n"
   ]
  },
  {
   "cell_type": "code",
   "execution_count": 20,
   "id": "c6a6a6fa-5a4c-486a-9eba-4c312bde5cec",
   "metadata": {},
   "outputs": [
    {
     "name": "stdout",
     "output_type": "stream",
     "text": [
      "n30_actelu -> 8174.971512313183\n",
      "n50_actlinear -> 8178.583459945633\n",
      "n50_actrelu -> 8218.495897002698\n",
      "n30_actrelu -> 8219.420831426558\n",
      "n5_actlinear -> 8222.85945406444\n",
      "n10_actlinear -> 8289.043790206051\n",
      "n10_actelu -> 8315.597631982451\n",
      "n5_actelu -> 8322.71398188308\n",
      "n50_actelu -> 8328.149446639165\n",
      "n10_actrelu -> 8334.968537976936\n",
      "n30_actlinear -> 8347.518754408626\n",
      "n5_actrelu -> 8849.490342952695\n"
     ]
    }
   ],
   "source": [
    "results = {}\n",
    "\n",
    "for neuronas in [5, 10, 30, 50]:\n",
    "    for act in ['linear', 'relu', 'elu']:\n",
    "        my_model, name = create_model(neuronas, act)\n",
    "        \n",
    "        mae, metrics = train_model_emb(x_e, y, my_model, name, 32, checkpoints_path, stopping_patiece=50, cat=cat, num=num)\n",
    "        results[name] = (mae, metrics)\n",
    "\n",
    "clear_output(wait=True)\n",
    "sorted_results = list(sorted(results.items(), key=lambda x: x[1][0]))\n",
    "for i in sorted_results:\n",
    "    print(i[0], '->', i[1][0])"
   ]
  },
  {
   "cell_type": "markdown",
   "id": "17da592c-de23-4a19-817a-9065a4c16bdd",
   "metadata": {},
   "source": [
    "Los mejores resultados se obtuvieron con 30 neuronas y utilizando adam por lo que se continuará avanzando para mejorar dicho modelo"
   ]
  },
  {
   "cell_type": "markdown",
   "id": "149a0fa8-7acd-47b0-aca6-93236f539d8d",
   "metadata": {},
   "source": [
    "### Optimización del Learning Rate"
   ]
  },
  {
   "cell_type": "code",
   "execution_count": 21,
   "id": "f6b808c4-2ef1-4381-9f93-d20e000d3433",
   "metadata": {},
   "outputs": [
    {
     "name": "stdout",
     "output_type": "stream",
     "text": [
      "Testing -> best_lr0.01\n",
      "Testing -> best_lr0.05\n",
      "Testing -> best_lr0.1\n",
      "Testing -> best_lr0.5\n",
      "Testing -> best_lr1.0\n",
      "Testing -> best_lr1.5\n",
      "Testing -> best_lr2.0\n"
     ]
    }
   ],
   "source": [
    "results_3 = {}\n",
    "lr_s = [0.01, 0.05, 0.1, 0.5, 1.0, 1.5, 2.0]\n",
    "for i in lr_s:\n",
    "     # Definiendo el modelo\n",
    "    name = 'best_lr{}'.format(i)\n",
    "    print('Testing ->', name)\n",
    "    checkpoints_path\n",
    "    # Input Layers\n",
    "    inp_cat = Input(shape=(1,))\n",
    "    inp_num = Input(shape=(len(num),))\n",
    "    # Embedding\n",
    "    emb = Embedding(input_dim=4, output_dim=2)(inp_cat)\n",
    "    flat = Flatten()(emb)\n",
    "    # Concatenate layers\n",
    "    conc = Concatenate()([flat, inp_num])\n",
    "    # Hidden layers\n",
    "    dense = Dense(30, activation='relu')(conc)\n",
    "    # Output Layer\n",
    "    out = Dense(1, activation='linear')(dense)\n",
    "    # Create model\n",
    "    model = Model(inputs=[inp_cat, inp_num], outputs=out)\n",
    "    model.compile(optimizer=Adam(lr=1.2), loss='mae', metrics=['mae', 'mse'])\n",
    "\n",
    "    mae, metrics = train_model_emb(x_e, y, model, name, 32, checkpoints_path, stopping_patiece=50, cat=cat, num=num)\n",
    "    results_3[name] = (mae, metrics)\n",
    "clear_output(wait=True)"
   ]
  },
  {
   "cell_type": "code",
   "execution_count": 22,
   "id": "5df5a135-a8d7-456a-b02a-3b0c2a1347b8",
   "metadata": {
    "tags": []
   },
   "outputs": [
    {
     "data": {
      "text/plain": [
       "{'best_lr0.01': (8226.928020271871,\n",
       "  [          Set          MAE           MSE\n",
       "   0       Train  8205.464809  1.634767e+08\n",
       "   1  Validacion  8748.498262  1.370446e+08,\n",
       "             Set          MAE           MSE\n",
       "   0       Train  8150.146535  1.422041e+08\n",
       "   1  Validacion  7905.400292  1.521689e+08,\n",
       "             Set          MAE           MSE\n",
       "   0       Train  8565.360396  1.609719e+08\n",
       "   1  Validacion  7781.008585  1.827913e+08,\n",
       "             Set          MAE           MSE\n",
       "   0       Train  7952.996296  1.918170e+08\n",
       "   1  Validacion  8982.317063  1.580462e+08,\n",
       "             Set         MAE           MSE\n",
       "   0       Train  8243.92168  1.235369e+08\n",
       "   1  Validacion  7717.41590  1.513879e+08]),\n",
       " 'best_lr0.05': (8217.729447907972,\n",
       "  [          Set          MAE           MSE\n",
       "   0       Train  7951.571727  1.726256e+08\n",
       "   1  Validacion  8610.562247  1.418181e+08,\n",
       "             Set          MAE           MSE\n",
       "   0       Train  8183.895612  1.524937e+08\n",
       "   1  Validacion  7954.970559  1.642296e+08,\n",
       "             Set          MAE           MSE\n",
       "   0       Train  8457.662441  1.571940e+08\n",
       "   1  Validacion  7692.328400  1.775106e+08,\n",
       "             Set          MAE           MSE\n",
       "   0       Train  8312.150923  1.606773e+08\n",
       "   1  Validacion  9137.767756  1.355957e+08,\n",
       "             Set          MAE           MSE\n",
       "   0       Train  8307.988526  1.386868e+08\n",
       "   1  Validacion  7693.018277  1.726484e+08]),\n",
       " 'best_lr0.1': (8196.059509996961,\n",
       "  [          Set          MAE           MSE\n",
       "   0       Train  7948.778713  1.875509e+08\n",
       "   1  Validacion  8718.829363  1.527017e+08,\n",
       "             Set          MAE           MSE\n",
       "   0       Train  8130.809545  1.466830e+08\n",
       "   1  Validacion  7890.050181  1.563904e+08,\n",
       "             Set          MAE           MSE\n",
       "   0       Train  8193.490128  1.345263e+08\n",
       "   1  Validacion  7771.622437  1.518662e+08,\n",
       "             Set          MAE           MSE\n",
       "   0       Train  7898.795892  1.856348e+08\n",
       "   1  Validacion  8879.494035  1.533690e+08,\n",
       "             Set          MAE           MSE\n",
       "   0       Train  8336.113635  1.408536e+08\n",
       "   1  Validacion  7720.301533  1.745686e+08]),\n",
       " 'best_lr0.5': (8360.375305964895,\n",
       "  [          Set          MAE           MSE\n",
       "   0       Train  7955.489700  1.880103e+08\n",
       "   1  Validacion  8737.207869  1.536114e+08,\n",
       "             Set          MAE           MSE\n",
       "   0       Train  8721.902505  1.791362e+08\n",
       "   1  Validacion  8457.782550  1.924998e+08,\n",
       "             Set          MAE           MSE\n",
       "   0       Train  8326.525110  1.319000e+08\n",
       "   1  Validacion  8005.039647  1.464125e+08,\n",
       "             Set          MAE           MSE\n",
       "   0       Train  7864.774074  1.817372e+08\n",
       "   1  Validacion  8922.108145  1.478829e+08,\n",
       "             Set          MAE           MSE\n",
       "   0       Train  8319.381153  1.386641e+08\n",
       "   1  Validacion  7679.738318  1.729617e+08]),\n",
       " 'best_lr1.0': (8195.057701073147,\n",
       "  [          Set          MAE           MSE\n",
       "   0       Train  7927.126978  1.784724e+08\n",
       "   1  Validacion  8617.104137  1.471961e+08,\n",
       "             Set          MAE           MSE\n",
       "   0       Train  8182.295691  1.414194e+08\n",
       "   1  Validacion  7925.518946  1.501809e+08,\n",
       "             Set          MAE           MSE\n",
       "   0       Train  8406.574853  1.538177e+08\n",
       "   1  Validacion  7691.243787  1.744860e+08,\n",
       "             Set          MAE           MSE\n",
       "   0       Train  7905.016399  1.869980e+08\n",
       "   1  Validacion  8908.458350  1.534005e+08,\n",
       "             Set          MAE           MSE\n",
       "   0       Train  8497.131803  1.473313e+08\n",
       "   1  Validacion  7832.963285  1.838344e+08]),\n",
       " 'best_lr1.5': (8417.70684382063,\n",
       "  [          Set          MAE           MSE\n",
       "   0       Train  8482.933364  2.233591e+08\n",
       "   1  Validacion  9496.662561  1.824065e+08,\n",
       "             Set          MAE           MSE\n",
       "   0       Train  8375.138455  1.652792e+08\n",
       "   1  Validacion  8131.842861  1.766767e+08,\n",
       "             Set          MAE           MSE\n",
       "   0       Train  8193.482730  1.409942e+08\n",
       "   1  Validacion  7648.364437  1.598526e+08,\n",
       "             Set          MAE           MSE\n",
       "   0       Train  8130.136577  1.626597e+08\n",
       "   1  Validacion  8986.666782  1.368910e+08,\n",
       "             Set          MAE           MSE\n",
       "   0       Train  8302.732024  1.227111e+08\n",
       "   1  Validacion  7824.997577  1.500275e+08]),\n",
       " 'best_lr2.0': (8242.199913533632,\n",
       "  [          Set          MAE           MSE\n",
       "   0       Train  8142.538301  2.049881e+08\n",
       "   1  Validacion  9027.682435  1.671809e+08,\n",
       "             Set          MAE           MSE\n",
       "   0       Train  8161.247838  1.425086e+08\n",
       "   1  Validacion  7948.331039  1.515849e+08,\n",
       "             Set          MAE           MSE\n",
       "   0       Train  8244.907130  1.457084e+08\n",
       "   1  Validacion  7638.965269  1.652295e+08,\n",
       "             Set          MAE           MSE\n",
       "   0       Train  7888.514247  1.828132e+08\n",
       "   1  Validacion  8848.342737  1.501418e+08,\n",
       "             Set          MAE           MSE\n",
       "   0       Train  8376.076364  1.415623e+08\n",
       "   1  Validacion  7747.678088  1.779464e+08])}"
      ]
     },
     "execution_count": 22,
     "metadata": {},
     "output_type": "execute_result"
    }
   ],
   "source": [
    "results_3"
   ]
  },
  {
   "cell_type": "markdown",
   "id": "f2dabd61-f59c-4692-ac17-df405e89bd0c",
   "metadata": {},
   "source": [
    "### Probando varias capas"
   ]
  },
  {
   "cell_type": "code",
   "execution_count": 23,
   "id": "ea0a76fc-e046-4979-a023-1afc0110b9fa",
   "metadata": {},
   "outputs": [
    {
     "name": "stdout",
     "output_type": "stream",
     "text": [
      "Testing -> 3_hidden\n"
     ]
    },
    {
     "data": {
      "text/plain": [
       "[          Set          MAE           MSE\n",
       " 0       Train  8128.363209  2.044878e+08\n",
       " 1  Validacion  9008.769999  1.663902e+08,\n",
       "           Set          MAE           MSE\n",
       " 0       Train  8146.112628  1.421291e+08\n",
       " 1  Validacion  7851.842020  1.530762e+08,\n",
       "           Set          MAE           MSE\n",
       " 0       Train  8335.581496  1.501571e+08\n",
       " 1  Validacion  7537.070966  1.699922e+08,\n",
       "           Set          MAE           MSE\n",
       " 0       Train  7899.913483  1.771878e+08\n",
       " 1  Validacion  8783.417714  1.478390e+08,\n",
       "           Set          MAE           MSE\n",
       " 0       Train  8207.930047  1.271221e+08\n",
       " 1  Validacion  7547.938935  1.606405e+08]"
      ]
     },
     "execution_count": 23,
     "metadata": {},
     "output_type": "execute_result"
    }
   ],
   "source": [
    " # Definiendo el modelo\n",
    "name = '3_hidden'.format(i)\n",
    "print('Testing ->', name)\n",
    "checkpoints_path\n",
    "# Input Layers\n",
    "inp_cat = Input(shape=(1,))\n",
    "inp_num = Input(shape=(len(num),))\n",
    "# Embedding\n",
    "emb = Embedding(input_dim=4, output_dim=2)(inp_cat)\n",
    "flat = Flatten()(emb)\n",
    "# Concatenate layers\n",
    "conc = Concatenate()([flat, inp_num])\n",
    "# Hidden layers\n",
    "dense = Dense(30, activation='relu')(conc)\n",
    "dense1 = Dense(30, activation='elu')(dense)\n",
    "dense2 = Dense(30, activation='elu')(dense1)\n",
    "# Output Layer\n",
    "out = Dense(1, activation='linear')(dense2)\n",
    "# Create model\n",
    "model = Model(inputs=[inp_cat, inp_num], outputs=out)\n",
    "model.compile(optimizer=Adam(lr=1.2), loss='mae', metrics=['mae', 'mse'])\n",
    "\n",
    "mae, metrics = train_model_emb(x_e, y, model, name, 32, checkpoints_path, stopping_patiece=50, cat=cat, num=num)\n",
    "metrics"
   ]
  },
  {
   "cell_type": "code",
   "execution_count": 24,
   "id": "4d21950b-0a34-4815-8c7e-0f556537ff13",
   "metadata": {},
   "outputs": [
    {
     "name": "stdout",
     "output_type": "stream",
     "text": [
      "Testing -> 3_hidden_drop\n"
     ]
    },
    {
     "data": {
      "text/plain": [
       "[          Set          MAE           MSE\n",
       " 0       Train  7945.080088  1.872590e+08\n",
       " 1  Validacion  8718.199529  1.525853e+08,\n",
       "           Set          MAE           MSE\n",
       " 0       Train  8138.699550  1.465794e+08\n",
       " 1  Validacion  7845.054855  1.581299e+08,\n",
       "           Set          MAE           MSE\n",
       " 0       Train  8207.743204  1.386461e+08\n",
       " 1  Validacion  7559.590138  1.559708e+08,\n",
       "           Set          MAE           MSE\n",
       " 0       Train  7899.886948  1.794934e+08\n",
       " 1  Validacion  8797.521820  1.496151e+08,\n",
       "           Set          MAE           MSE\n",
       " 0       Train  8262.238672  1.338848e+08\n",
       " 1  Validacion  7594.070900  1.694883e+08]"
      ]
     },
     "execution_count": 24,
     "metadata": {},
     "output_type": "execute_result"
    }
   ],
   "source": [
    " # Definiendo el modelo\n",
    "name = '3_hidden_drop'.format(i)\n",
    "print('Testing ->', name)\n",
    "checkpoints_path\n",
    "# Input Layers\n",
    "inp_cat = Input(shape=(1,))\n",
    "inp_num = Input(shape=(len(num),))\n",
    "# Embedding\n",
    "emb = Embedding(input_dim=4, output_dim=2)(inp_cat)\n",
    "flat = Flatten()(emb)\n",
    "# Concatenate layers\n",
    "conc = Concatenate()([flat, inp_num])\n",
    "# Hidden layers\n",
    "dense = Dense(30, activation='relu')(conc)\n",
    "drop1 = Dropout(0.1)(dense)\n",
    "dense1 = Dense(30, activation='elu')(drop1)\n",
    "drop2 = Dropout(0.1)(dense1)\n",
    "dense2 = Dense(30, activation='elu')(drop2)\n",
    "drop3 = Dropout(0.1)(dense2)\n",
    "# Output Layer\n",
    "out = Dense(1, activation='linear')(drop3)\n",
    "# Create model\n",
    "model = Model(inputs=[inp_cat, inp_num], outputs=out)\n",
    "model.compile(optimizer=Adam(lr=1.2), loss='mae', metrics=['mae', 'mse'])\n",
    "\n",
    "mae, metrics = train_model_emb(x_e, y, model, name, 32, checkpoints_path, stopping_patiece=50, cat=cat, num=num)\n",
    "metrics"
   ]
  },
  {
   "cell_type": "code",
   "execution_count": 25,
   "id": "78142234-5690-4e83-bc9b-36da18892652",
   "metadata": {},
   "outputs": [
    {
     "name": "stdout",
     "output_type": "stream",
     "text": [
      "Testing -> 2_hidden\n"
     ]
    },
    {
     "data": {
      "text/plain": [
       "[          Set          MAE           MSE\n",
       " 0       Train  7947.608949  1.746257e+08\n",
       " 1  Validacion  8628.672332  1.435127e+08,\n",
       "           Set          MAE           MSE\n",
       " 0       Train  8144.306921  1.511806e+08\n",
       " 1  Validacion  7925.881775  1.608340e+08,\n",
       "           Set          MAE           MSE\n",
       " 0       Train  8207.742616  1.386453e+08\n",
       " 1  Validacion  7559.607230  1.559699e+08,\n",
       "           Set          MAE           MSE\n",
       " 0       Train  7876.343636  1.801068e+08\n",
       " 1  Validacion  8826.796937  1.487945e+08,\n",
       "           Set          MAE           MSE\n",
       " 0       Train  8302.199214  1.388208e+08\n",
       " 1  Validacion  7692.205682  1.728424e+08]"
      ]
     },
     "execution_count": 25,
     "metadata": {},
     "output_type": "execute_result"
    }
   ],
   "source": [
    " # Definiendo el modelo\n",
    "name = '2_hidden'.format(i)\n",
    "print('Testing ->', name)\n",
    "checkpoints_path\n",
    "# Input Layers\n",
    "inp_cat = Input(shape=(1,))\n",
    "inp_num = Input(shape=(len(num),))\n",
    "# Embedding\n",
    "emb = Embedding(input_dim=4, output_dim=2)(inp_cat)\n",
    "flat = Flatten()(emb)\n",
    "# Concatenate layers\n",
    "conc = Concatenate()([flat, inp_num])\n",
    "# Hidden layers\n",
    "dense = Dense(5, activation='relu')(conc)\n",
    "dense1 = Dense(5, activation='elu')(dense)\n",
    "# Output Layer\n",
    "out = Dense(1, activation='linear')(dense1)\n",
    "# Create model\n",
    "model = Model(inputs=[inp_cat, inp_num], outputs=out)\n",
    "model.compile(optimizer=Adam(lr=0.2), loss='mae', metrics=['mae', 'mse'])\n",
    "\n",
    "mae, metrics = train_model_emb(x_e, y, model, name, 32, checkpoints_path, stopping_patiece=50, cat=cat, num=num)\n",
    "metrics"
   ]
  },
  {
   "cell_type": "code",
   "execution_count": 26,
   "id": "a13d2e38-b0bc-4290-bbf6-2b626f41d478",
   "metadata": {},
   "outputs": [
    {
     "name": "stdout",
     "output_type": "stream",
     "text": [
      "Testing -> 2_hidden_drop\n"
     ]
    },
    {
     "data": {
      "text/plain": [
       "[          Set          MAE           MSE\n",
       " 0       Train  7929.249738  1.818523e+08\n",
       " 1  Validacion  8670.742524  1.484613e+08,\n",
       "           Set          MAE           MSE\n",
       " 0       Train  8134.774865  1.442414e+08\n",
       " 1  Validacion  7845.169127  1.554911e+08,\n",
       "           Set          MAE           MSE\n",
       " 0       Train  8208.376743  1.378534e+08\n",
       " 1  Validacion  7578.586281  1.549513e+08,\n",
       "           Set          MAE           MSE\n",
       " 0       Train  7899.762678  1.794043e+08\n",
       " 1  Validacion  8796.898687  1.495459e+08,\n",
       "           Set          MAE           MSE\n",
       " 0       Train  8208.013180  1.266224e+08\n",
       " 1  Validacion  7549.864138  1.599565e+08]"
      ]
     },
     "execution_count": 26,
     "metadata": {},
     "output_type": "execute_result"
    }
   ],
   "source": [
    " # Definiendo el modelo\n",
    "name = '2_hidden_drop'.format(i)\n",
    "print('Testing ->', name)\n",
    "checkpoints_path\n",
    "# Input Layers\n",
    "inp_cat = Input(shape=(1,))\n",
    "inp_num = Input(shape=(len(num),))\n",
    "# Embedding\n",
    "emb = Embedding(input_dim=4, output_dim=2)(inp_cat)\n",
    "flat = Flatten()(emb)\n",
    "# Concatenate layers\n",
    "conc = Concatenate()([flat, inp_num])\n",
    "# Hidden layers\n",
    "dense = Dense(5, activation='relu')(conc)\n",
    "drop1 = Dropout(0.6)(dense)\n",
    "dense1 = Dense(5, activation='elu')(drop1)\n",
    "drop2 = Dropout(0.6)(dense1)\n",
    "# Output Layer\n",
    "out = Dense(1, activation='linear')(drop2)\n",
    "# Create model\n",
    "model = Model(inputs=[inp_cat, inp_num], outputs=out)\n",
    "model.compile(optimizer=Adam(lr=10), loss='mae', metrics=['mae', 'mse'])\n",
    "\n",
    "mae, metrics = train_model_emb(x_e, y, model, name, 32, checkpoints_path, stopping_patiece=50, cat=cat, num=num)\n",
    "metrics"
   ]
  },
  {
   "cell_type": "markdown",
   "id": "79675afb-08d8-4751-834c-3b1f92938671",
   "metadata": {},
   "source": [
    "### Se probaron varias combinaciones de topologia pero no se logro mejorar lo realizado previamente con features polinomiales, por lo tanto se busca mejorar el primer modelo desarrollado que no utilizaba la capa de Embedding"
   ]
  },
  {
   "cell_type": "markdown",
   "id": "4ea7e1cd-68e1-4d71-90af-9d6ef190bafb",
   "metadata": {},
   "source": [
    "### Buscando mejorar el primer modelo "
   ]
  },
  {
   "cell_type": "code",
   "execution_count": 27,
   "id": "bea2eb83-3844-4af1-94a1-f77859f4298c",
   "metadata": {},
   "outputs": [
    {
     "data": {
      "text/html": [
       "<div>\n",
       "<style scoped>\n",
       "    .dataframe tbody tr th:only-of-type {\n",
       "        vertical-align: middle;\n",
       "    }\n",
       "\n",
       "    .dataframe tbody tr th {\n",
       "        vertical-align: top;\n",
       "    }\n",
       "\n",
       "    .dataframe thead th {\n",
       "        text-align: right;\n",
       "    }\n",
       "</style>\n",
       "<table border=\"1\" class=\"dataframe\">\n",
       "  <thead>\n",
       "    <tr style=\"text-align: right;\">\n",
       "      <th></th>\n",
       "      <th>Set</th>\n",
       "      <th>MAE</th>\n",
       "      <th>MSE</th>\n",
       "    </tr>\n",
       "  </thead>\n",
       "  <tbody>\n",
       "    <tr>\n",
       "      <th>0</th>\n",
       "      <td>Train</td>\n",
       "      <td>3206.245597</td>\n",
       "      <td>3.207724e+07</td>\n",
       "    </tr>\n",
       "    <tr>\n",
       "      <th>1</th>\n",
       "      <td>Validacion</td>\n",
       "      <td>2449.437323</td>\n",
       "      <td>4.849056e+07</td>\n",
       "    </tr>\n",
       "  </tbody>\n",
       "</table>\n",
       "</div>"
      ],
      "text/plain": [
       "          Set          MAE           MSE\n",
       "0       Train  3206.245597  3.207724e+07\n",
       "1  Validacion  2449.437323  4.849056e+07"
      ]
     },
     "execution_count": 27,
     "metadata": {},
     "output_type": "execute_result"
    }
   ],
   "source": [
    "name = 'first_attempt_v2'\n",
    "checkfile = join(checkpoints_path, name)\n",
    "# Define callbacks\n",
    "checkpoint_callback = ModelCheckpoint(filepath=checkfile, save_weights_only=True, monitor='loss', mode='min', \n",
    "                                           save_best_only=True)\n",
    "callbacks = [checkpoint_callback]\n",
    "# Defining model\n",
    "mlp_model = Sequential(name=name)\n",
    "\n",
    "mlp_model.add(Dense(50, activation='relu', input_shape=(x_train.shape[1],),  kernel_regularizer='l2'))\n",
    "mlp_model.add(Dense(1, activation='linear'))\n",
    "\n",
    "mlp_model.compile(optimizer=Adam(learning_rate=0.02), loss='mae', metrics=['mae', 'mse'])\n",
    "print(mlp_model.summary())\n",
    "history_mlp_0 = mlp_model.fit(x_train, y_train, validation_data=(x_valid, y_valid),\n",
    "                              batch_size=32, epochs=200,\n",
    "                              verbose=1, callbacks=callbacks) \n",
    "# Cargo el mejor modelo entrenado\n",
    "clear_output(wait=True)\n",
    "mlp_model.load_weights(checkfile)\n",
    "verify_model(mlp_model, x_train, y_train, x_valid, y_valid)"
   ]
  },
  {
   "cell_type": "code",
   "execution_count": 28,
   "id": "ef3c2235-444b-49de-9698-15da297e41f8",
   "metadata": {},
   "outputs": [
    {
     "data": {
      "text/html": [
       "<div>\n",
       "<style scoped>\n",
       "    .dataframe tbody tr th:only-of-type {\n",
       "        vertical-align: middle;\n",
       "    }\n",
       "\n",
       "    .dataframe tbody tr th {\n",
       "        vertical-align: top;\n",
       "    }\n",
       "\n",
       "    .dataframe thead th {\n",
       "        text-align: right;\n",
       "    }\n",
       "</style>\n",
       "<table border=\"1\" class=\"dataframe\">\n",
       "  <thead>\n",
       "    <tr style=\"text-align: right;\">\n",
       "      <th></th>\n",
       "      <th>Set</th>\n",
       "      <th>MAE</th>\n",
       "      <th>MSE</th>\n",
       "    </tr>\n",
       "  </thead>\n",
       "  <tbody>\n",
       "    <tr>\n",
       "      <th>0</th>\n",
       "      <td>Train</td>\n",
       "      <td>3206.245597</td>\n",
       "      <td>6.246750e+07</td>\n",
       "    </tr>\n",
       "    <tr>\n",
       "      <th>1</th>\n",
       "      <td>Test</td>\n",
       "      <td>4176.948949</td>\n",
       "      <td>4.849056e+07</td>\n",
       "    </tr>\n",
       "  </tbody>\n",
       "</table>\n",
       "</div>"
      ],
      "text/plain": [
       "     Set          MAE           MSE\n",
       "0  Train  3206.245597  6.246750e+07\n",
       "1   Test  4176.948949  4.849056e+07"
      ]
     },
     "execution_count": 28,
     "metadata": {},
     "output_type": "execute_result"
    }
   ],
   "source": [
    "verify_model(mlp_model, x_train, y_train, x_test, y_test, valid_label='Test')"
   ]
  },
  {
   "cell_type": "code",
   "execution_count": null,
   "id": "0c066f82-dc4d-49b1-9740-399e839748af",
   "metadata": {},
   "outputs": [],
   "source": []
  }
 ],
 "metadata": {
  "kernelspec": {
   "display_name": "Python 3",
   "language": "python",
   "name": "python3"
  },
  "language_info": {
   "codemirror_mode": {
    "name": "ipython",
    "version": 3
   },
   "file_extension": ".py",
   "mimetype": "text/x-python",
   "name": "python",
   "nbconvert_exporter": "python",
   "pygments_lexer": "ipython3",
   "version": "3.8.8"
  }
 },
 "nbformat": 4,
 "nbformat_minor": 5
}
