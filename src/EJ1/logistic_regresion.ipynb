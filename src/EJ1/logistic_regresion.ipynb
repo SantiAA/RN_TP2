{
 "cells": [
  {
   "cell_type": "code",
   "execution_count": 1,
   "id": "df0b47e9-2785-49ec-9676-c5adf3c2b672",
   "metadata": {},
   "outputs": [],
   "source": [
    "import pandas as pd\n",
    "import matplotlib.pyplot as plt\n",
    "import seaborn as sns\n",
    "import numpy as np\n",
    "from tensorflow import keras"
   ]
  },
  {
   "cell_type": "code",
   "execution_count": 2,
   "id": "c1534c17-095f-4ae2-b4c8-e9d045b15911",
   "metadata": {},
   "outputs": [],
   "source": [
    "from sklearn.model_selection import train_test_split\n",
    "from sklearn.metrics import roc_auc_score, roc_curve, confusion_matrix, auc"
   ]
  },
  {
   "cell_type": "code",
   "execution_count": 50,
   "id": "99c9cd02-281b-4a7f-9ab9-fed9e4936fd8",
   "metadata": {},
   "outputs": [],
   "source": [
    "from keras.models import Sequential\n",
    "from keras.layers import Dense\n",
    "from keras.optimizers import SGD, Adam\n",
    "from keras.metrics import AUC # Area under the curve, default: ROC\n",
    "from keras.losses import BinaryCrossentropy\n",
    "from keras.callbacks import EarlyStopping, LearningRateScheduler\n",
    "import kerastuner as kt"
   ]
  },
  {
   "cell_type": "code",
   "execution_count": 4,
   "id": "c478635e-c27e-4b2d-94fc-3f90ddb39875",
   "metadata": {},
   "outputs": [],
   "source": [
    "df = pd.read_csv('../databases/diabetes.csv')"
   ]
  },
  {
   "cell_type": "code",
   "execution_count": 5,
   "id": "4ffcf5d5-49ff-488c-b488-d28ff05fc863",
   "metadata": {},
   "outputs": [
    {
     "data": {
      "text/html": [
       "<div>\n",
       "<style scoped>\n",
       "    .dataframe tbody tr th:only-of-type {\n",
       "        vertical-align: middle;\n",
       "    }\n",
       "\n",
       "    .dataframe tbody tr th {\n",
       "        vertical-align: top;\n",
       "    }\n",
       "\n",
       "    .dataframe thead th {\n",
       "        text-align: right;\n",
       "    }\n",
       "</style>\n",
       "<table border=\"1\" class=\"dataframe\">\n",
       "  <thead>\n",
       "    <tr style=\"text-align: right;\">\n",
       "      <th></th>\n",
       "      <th>Pregnancies</th>\n",
       "      <th>Glucose</th>\n",
       "      <th>BloodPressure</th>\n",
       "      <th>SkinThickness</th>\n",
       "      <th>Insulin</th>\n",
       "      <th>BMI</th>\n",
       "      <th>DiabetesPedigreeFunction</th>\n",
       "      <th>Age</th>\n",
       "      <th>Outcome</th>\n",
       "    </tr>\n",
       "  </thead>\n",
       "  <tbody>\n",
       "    <tr>\n",
       "      <th>0</th>\n",
       "      <td>6</td>\n",
       "      <td>148</td>\n",
       "      <td>72</td>\n",
       "      <td>35</td>\n",
       "      <td>0</td>\n",
       "      <td>33.6</td>\n",
       "      <td>0.627</td>\n",
       "      <td>50</td>\n",
       "      <td>1</td>\n",
       "    </tr>\n",
       "    <tr>\n",
       "      <th>1</th>\n",
       "      <td>1</td>\n",
       "      <td>85</td>\n",
       "      <td>66</td>\n",
       "      <td>29</td>\n",
       "      <td>0</td>\n",
       "      <td>26.6</td>\n",
       "      <td>0.351</td>\n",
       "      <td>31</td>\n",
       "      <td>0</td>\n",
       "    </tr>\n",
       "    <tr>\n",
       "      <th>2</th>\n",
       "      <td>8</td>\n",
       "      <td>183</td>\n",
       "      <td>64</td>\n",
       "      <td>0</td>\n",
       "      <td>0</td>\n",
       "      <td>23.3</td>\n",
       "      <td>0.672</td>\n",
       "      <td>32</td>\n",
       "      <td>1</td>\n",
       "    </tr>\n",
       "    <tr>\n",
       "      <th>3</th>\n",
       "      <td>1</td>\n",
       "      <td>89</td>\n",
       "      <td>66</td>\n",
       "      <td>23</td>\n",
       "      <td>94</td>\n",
       "      <td>28.1</td>\n",
       "      <td>0.167</td>\n",
       "      <td>21</td>\n",
       "      <td>0</td>\n",
       "    </tr>\n",
       "    <tr>\n",
       "      <th>4</th>\n",
       "      <td>0</td>\n",
       "      <td>137</td>\n",
       "      <td>40</td>\n",
       "      <td>35</td>\n",
       "      <td>168</td>\n",
       "      <td>43.1</td>\n",
       "      <td>2.288</td>\n",
       "      <td>33</td>\n",
       "      <td>1</td>\n",
       "    </tr>\n",
       "  </tbody>\n",
       "</table>\n",
       "</div>"
      ],
      "text/plain": [
       "   Pregnancies  Glucose  BloodPressure  SkinThickness  Insulin   BMI  \\\n",
       "0            6      148             72             35        0  33.6   \n",
       "1            1       85             66             29        0  26.6   \n",
       "2            8      183             64              0        0  23.3   \n",
       "3            1       89             66             23       94  28.1   \n",
       "4            0      137             40             35      168  43.1   \n",
       "\n",
       "   DiabetesPedigreeFunction  Age  Outcome  \n",
       "0                     0.627   50        1  \n",
       "1                     0.351   31        0  \n",
       "2                     0.672   32        1  \n",
       "3                     0.167   21        0  \n",
       "4                     2.288   33        1  "
      ]
     },
     "execution_count": 5,
     "metadata": {},
     "output_type": "execute_result"
    }
   ],
   "source": [
    "df.head()"
   ]
  },
  {
   "cell_type": "code",
   "execution_count": 6,
   "id": "54d171cd-c417-4b7c-9cce-670eb997c676",
   "metadata": {},
   "outputs": [],
   "source": [
    "def replace_outliers_zeros(data_frame, outlayers_keys: dict, zero_keys: list, mean_median = False):\n",
    "    \"\"\"\n",
    "    Fuction to replace outliers from data_frame\n",
    "    and replace them with median or mean value\n",
    "    Don't afect the original data frame, returns a copy \n",
    "    with the parameters changed\n",
    "    \"\"\"\n",
    "    data = data_frame.copy()\n",
    "    if len(zero_keys) != 0:\n",
    "        for key in zero_keys:\n",
    "            data.loc[data[key] == 0, key] = np.NaN\n",
    "            \n",
    "    replace = {}\n",
    "    for x in data.keys():\n",
    "        if mean_median:\n",
    "            replace[x] = np.mean(data[x].dropna())\n",
    "        else:\n",
    "            replace[x] = np.median(data[x].dropna())\n",
    "    \n",
    "    for key, val in outlayers_keys.items():\n",
    "        data.loc[data[key] < val[0], key] = np.NaN\n",
    "        data.loc[data[key] > val[1], key] = np.NaN\n",
    "    \n",
    "    for key, val in replace.items():\n",
    "        data[key] = data[key].replace(np.NaN, replace[key])\n",
    "        \n",
    "    return data\n",
    "\n",
    "def normalize(data_frame):\n",
    "    data = data_frame.copy()\n",
    "    for key in data:\n",
    "        k_mean = np.mean(data[key])\n",
    "        k_std = np.std(data[key])\n",
    "        data[key] = (data[key]-k_mean)/k_std\n",
    "    return data\n",
    "\n",
    "def metrics(tn, fp, fn, tp):\n",
    "    spec = tn / (tn + fp + 1e-15)\n",
    "    neg_pred_val = tn / (tn + fn + 1e-15)\n",
    "    sens = tp / (tp + fn + 1e-15)\n",
    "    pos_pred_val = tp / (tp + fp + 1e-15)\n",
    "    print('\\tEspecificidad: {}\\n\\tSesitividad: {}\\n\\tValor predictivo positivo: {}\\n\\tValor predictivo negativo: {}'.format(spec, \n",
    "                                                                                                                    sens, \n",
    "                                                                                                                    neg_pred_val, \n",
    "                                                                                                                    pos_pred_val))\n",
    "    \n",
    "def print_metrics(y, y_pred):\n",
    "    roc_auc = roc_auc_score(y, y_pred)\n",
    "    print('PRINCIPAL\\n\\tArea bajo la curva ROC: {}\\nSECUNDARIAS'.format(roc_auc))\n",
    "    tn, fp, fn, tp = confusion_matrix(y, y_pred).ravel()\n",
    "    metrics(tn, fp, fn, tp)\n",
    "    "
   ]
  },
  {
   "cell_type": "markdown",
   "id": "9a363f85-b0ef-4639-8555-030791d3ff2a",
   "metadata": {},
   "source": [
    "Tomando el EDA del Tp1, se reemplazan los valores no medidos por NaN y se quitan los outlayers para luego reemplazarlos por la media o la mediana"
   ]
  },
  {
   "cell_type": "code",
   "execution_count": 7,
   "id": "a991f812-f302-4746-9bb3-417274bb6ed2",
   "metadata": {},
   "outputs": [],
   "source": [
    "outlayers = {\n",
    "    'BloodPressure': (40, np.Inf),\n",
    "    'SkinThickness': (0, 80),\n",
    "    'Insulin': (0, 400),\n",
    "    'BMI': (0, 50)\n",
    "}\n",
    "\n",
    "zeros = [\n",
    "    'Glucose',\n",
    "    'BloodPressure',\n",
    "    'SkinThickness',\n",
    "    'Insulin',\n",
    "    'BMI'\n",
    "]"
   ]
  },
  {
   "cell_type": "code",
   "execution_count": 8,
   "id": "0808750b-78d7-4d95-a424-f870a9938c55",
   "metadata": {},
   "outputs": [],
   "source": [
    "x_data = df[['Pregnancies', 'Glucose', 'BloodPressure', 'SkinThickness', 'Insulin','BMI', 'DiabetesPedigreeFunction', 'Age']]\n",
    "y_data = df['Outcome']"
   ]
  },
  {
   "cell_type": "code",
   "execution_count": 9,
   "id": "b09f65af-105c-4233-ac6d-a2340f7f7d1c",
   "metadata": {},
   "outputs": [],
   "source": [
    "# Split dataset into 15% test, 85% train \n",
    "x, x_test, y, y_test = train_test_split(x_data, y_data, test_size=0.15, random_state=0)\n",
    "x_train, x_valid, y_train, y_valid = train_test_split(x, y, test_size=0.15, random_state=0)"
   ]
  },
  {
   "cell_type": "code",
   "execution_count": 10,
   "id": "a7807b06-3882-42c7-aa2d-5af07a2ab2ca",
   "metadata": {},
   "outputs": [
    {
     "name": "stdout",
     "output_type": "stream",
     "text": [
      "shape train (554, 8), (554,) \n",
      "shape valid (98, 8), (98,) \n",
      "shape test (116, 8), (116,) \n"
     ]
    }
   ],
   "source": [
    "print('shape train {}, {} '.format(x_train.shape, y_train.shape))\n",
    "print('shape valid {}, {} '.format(x_valid.shape, y_valid.shape))\n",
    "print('shape test {}, {} '.format(x_test.shape, y_test.shape))"
   ]
  },
  {
   "cell_type": "code",
   "execution_count": 34,
   "id": "48d9c0bd-eaf7-48dc-9954-46a3e1524241",
   "metadata": {},
   "outputs": [],
   "source": [
    "x_train_clean = replace_outliers_zeros(x_train, outlayers, zeros, mean_median=True)\n",
    "x_test_clean = replace_outliers_zeros(x_test, outlayers, zeros, mean_median=True)\n",
    "x_valid_clean = replace_outliers_zeros(x_valid, outlayers, zeros, mean_median=True)"
   ]
  },
  {
   "cell_type": "code",
   "execution_count": 35,
   "id": "bdd3af54-5dcb-4212-ad7e-ec008407df90",
   "metadata": {},
   "outputs": [],
   "source": [
    "x_train_clean = normalize(x_train_clean)\n",
    "x_valid_clean = normalize(x_valid_clean)\n",
    "x_test_clean = normalize(x_test_clean)"
   ]
  },
  {
   "cell_type": "code",
   "execution_count": 36,
   "id": "99a4848e-aa81-49c7-b43f-29725a41b9cf",
   "metadata": {},
   "outputs": [
    {
     "data": {
      "text/html": [
       "<div>\n",
       "<style scoped>\n",
       "    .dataframe tbody tr th:only-of-type {\n",
       "        vertical-align: middle;\n",
       "    }\n",
       "\n",
       "    .dataframe tbody tr th {\n",
       "        vertical-align: top;\n",
       "    }\n",
       "\n",
       "    .dataframe thead th {\n",
       "        text-align: right;\n",
       "    }\n",
       "</style>\n",
       "<table border=\"1\" class=\"dataframe\">\n",
       "  <thead>\n",
       "    <tr style=\"text-align: right;\">\n",
       "      <th></th>\n",
       "      <th>Pregnancies</th>\n",
       "      <th>Glucose</th>\n",
       "      <th>BloodPressure</th>\n",
       "      <th>SkinThickness</th>\n",
       "      <th>Insulin</th>\n",
       "      <th>BMI</th>\n",
       "      <th>DiabetesPedigreeFunction</th>\n",
       "      <th>Age</th>\n",
       "    </tr>\n",
       "  </thead>\n",
       "  <tbody>\n",
       "    <tr>\n",
       "      <th>count</th>\n",
       "      <td>5.540000e+02</td>\n",
       "      <td>5.540000e+02</td>\n",
       "      <td>5.540000e+02</td>\n",
       "      <td>5.540000e+02</td>\n",
       "      <td>5.540000e+02</td>\n",
       "      <td>5.540000e+02</td>\n",
       "      <td>5.540000e+02</td>\n",
       "      <td>5.540000e+02</td>\n",
       "    </tr>\n",
       "    <tr>\n",
       "      <th>mean</th>\n",
       "      <td>1.042087e-17</td>\n",
       "      <td>-1.014832e-15</td>\n",
       "      <td>1.087177e-16</td>\n",
       "      <td>5.259331e-15</td>\n",
       "      <td>-1.890185e-15</td>\n",
       "      <td>-1.483771e-15</td>\n",
       "      <td>3.631271e-16</td>\n",
       "      <td>-8.296612e-17</td>\n",
       "    </tr>\n",
       "    <tr>\n",
       "      <th>std</th>\n",
       "      <td>1.000904e+00</td>\n",
       "      <td>1.000904e+00</td>\n",
       "      <td>1.000904e+00</td>\n",
       "      <td>1.000904e+00</td>\n",
       "      <td>1.000904e+00</td>\n",
       "      <td>1.000904e+00</td>\n",
       "      <td>1.000904e+00</td>\n",
       "      <td>1.000904e+00</td>\n",
       "    </tr>\n",
       "    <tr>\n",
       "      <th>min</th>\n",
       "      <td>-1.132323e+00</td>\n",
       "      <td>-2.551563e+00</td>\n",
       "      <td>-2.762256e+00</td>\n",
       "      <td>-2.604498e+00</td>\n",
       "      <td>-2.319631e+00</td>\n",
       "      <td>-2.181602e+00</td>\n",
       "      <td>-1.226701e+00</td>\n",
       "      <td>-1.039051e+00</td>\n",
       "    </tr>\n",
       "    <tr>\n",
       "      <th>25%</th>\n",
       "      <td>-8.395991e-01</td>\n",
       "      <td>-7.297063e-01</td>\n",
       "      <td>-7.318759e-01</td>\n",
       "      <td>-4.614834e-01</td>\n",
       "      <td>-4.475001e-01</td>\n",
       "      <td>-7.538432e-01</td>\n",
       "      <td>-6.903276e-01</td>\n",
       "      <td>-7.910755e-01</td>\n",
       "    </tr>\n",
       "    <tr>\n",
       "      <th>50%</th>\n",
       "      <td>-2.541518e-01</td>\n",
       "      <td>-1.500246e-01</td>\n",
       "      <td>-1.908640e-02</td>\n",
       "      <td>1.504268e-02</td>\n",
       "      <td>1.786630e-01</td>\n",
       "      <td>1.376913e-02</td>\n",
       "      <td>-2.925762e-01</td>\n",
       "      <td>-3.777826e-01</td>\n",
       "    </tr>\n",
       "    <tr>\n",
       "      <th>75%</th>\n",
       "      <td>6.240192e-01</td>\n",
       "      <td>6.284051e-01</td>\n",
       "      <td>5.868243e-01</td>\n",
       "      <td>3.719111e-01</td>\n",
       "      <td>1.786630e-01</td>\n",
       "      <td>6.547254e-01</td>\n",
       "      <td>4.895369e-01</td>\n",
       "      <td>6.141204e-01</td>\n",
       "    </tr>\n",
       "    <tr>\n",
       "      <th>max</th>\n",
       "      <td>3.843979e+00</td>\n",
       "      <td>2.549636e+00</td>\n",
       "      <td>4.103358e+00</td>\n",
       "      <td>3.705489e+00</td>\n",
       "      <td>4.313060e+00</td>\n",
       "      <td>2.700412e+00</td>\n",
       "      <td>5.865088e+00</td>\n",
       "      <td>3.920464e+00</td>\n",
       "    </tr>\n",
       "  </tbody>\n",
       "</table>\n",
       "</div>"
      ],
      "text/plain": [
       "        Pregnancies       Glucose  BloodPressure  SkinThickness       Insulin  \\\n",
       "count  5.540000e+02  5.540000e+02   5.540000e+02   5.540000e+02  5.540000e+02   \n",
       "mean   1.042087e-17 -1.014832e-15   1.087177e-16   5.259331e-15 -1.890185e-15   \n",
       "std    1.000904e+00  1.000904e+00   1.000904e+00   1.000904e+00  1.000904e+00   \n",
       "min   -1.132323e+00 -2.551563e+00  -2.762256e+00  -2.604498e+00 -2.319631e+00   \n",
       "25%   -8.395991e-01 -7.297063e-01  -7.318759e-01  -4.614834e-01 -4.475001e-01   \n",
       "50%   -2.541518e-01 -1.500246e-01  -1.908640e-02   1.504268e-02  1.786630e-01   \n",
       "75%    6.240192e-01  6.284051e-01   5.868243e-01   3.719111e-01  1.786630e-01   \n",
       "max    3.843979e+00  2.549636e+00   4.103358e+00   3.705489e+00  4.313060e+00   \n",
       "\n",
       "                BMI  DiabetesPedigreeFunction           Age  \n",
       "count  5.540000e+02              5.540000e+02  5.540000e+02  \n",
       "mean  -1.483771e-15              3.631271e-16 -8.296612e-17  \n",
       "std    1.000904e+00              1.000904e+00  1.000904e+00  \n",
       "min   -2.181602e+00             -1.226701e+00 -1.039051e+00  \n",
       "25%   -7.538432e-01             -6.903276e-01 -7.910755e-01  \n",
       "50%    1.376913e-02             -2.925762e-01 -3.777826e-01  \n",
       "75%    6.547254e-01              4.895369e-01  6.141204e-01  \n",
       "max    2.700412e+00              5.865088e+00  3.920464e+00  "
      ]
     },
     "execution_count": 36,
     "metadata": {},
     "output_type": "execute_result"
    }
   ],
   "source": [
    "x_train_clean.describe()"
   ]
  },
  {
   "cell_type": "code",
   "execution_count": 14,
   "id": "d64e22b1-0f36-4185-98c3-d7b8d92f05a4",
   "metadata": {},
   "outputs": [],
   "source": [
    "def create_model(in_shape, optimizer_, metrics_, loss_, activation_='sigmoid'):\n",
    "    model = Sequential()\n",
    "    model.add(Dense(units=1, activation=activation_, input_shape=in_shape))\n",
    "    model.compile(optimizer=optimizer_,\n",
    "                  loss= loss_,\n",
    "                  metrics=metrics_)\n",
    "    return model"
   ]
  },
  {
   "cell_type": "code",
   "execution_count": 15,
   "id": "000be808-a8ed-4753-9ed5-39fbe7464e4b",
   "metadata": {},
   "outputs": [],
   "source": [
    "model = create_model(in_shape= (x_train_clean.shape[1],),\n",
    "                     optimizer_= SGD(momentum=0.9, learning_rate=0.1),\n",
    "                     metrics_ = [AUC()],\n",
    "                     loss_ = BinaryCrossentropy(from_logits=True))"
   ]
  },
  {
   "cell_type": "code",
   "execution_count": 16,
   "id": "da8bb4b7-805a-4af4-a92e-3e101f002f4a",
   "metadata": {},
   "outputs": [
    {
     "name": "stdout",
     "output_type": "stream",
     "text": [
      "Epoch 1/20\n",
      "18/18 [==============================] - 0s 16ms/step - loss: 0.7669 - auc: 0.6120 - val_loss: 0.7769 - val_auc: 0.6787\n",
      "Epoch 2/20\n",
      "18/18 [==============================] - 0s 2ms/step - loss: 0.7081 - auc: 0.7708 - val_loss: 0.7388 - val_auc: 0.7287\n",
      "Epoch 3/20\n",
      "18/18 [==============================] - 0s 2ms/step - loss: 0.6849 - auc: 0.8142 - val_loss: 0.7216 - val_auc: 0.7488\n",
      "Epoch 4/20\n",
      "18/18 [==============================] - 0s 2ms/step - loss: 0.6762 - auc: 0.8270 - val_loss: 0.7111 - val_auc: 0.7577\n",
      "Epoch 5/20\n",
      "18/18 [==============================] - 0s 2ms/step - loss: 0.6704 - auc: 0.8346 - val_loss: 0.7082 - val_auc: 0.7533\n",
      "Epoch 6/20\n",
      "18/18 [==============================] - 0s 2ms/step - loss: 0.6677 - auc: 0.8381 - val_loss: 0.7057 - val_auc: 0.7507\n",
      "Epoch 7/20\n",
      "18/18 [==============================] - 0s 2ms/step - loss: 0.6657 - auc: 0.8390 - val_loss: 0.7047 - val_auc: 0.7535\n",
      "Epoch 8/20\n",
      "18/18 [==============================] - 0s 2ms/step - loss: 0.6643 - auc: 0.8402 - val_loss: 0.7044 - val_auc: 0.7569\n",
      "Epoch 9/20\n",
      "18/18 [==============================] - 0s 2ms/step - loss: 0.6631 - auc: 0.8410 - val_loss: 0.7037 - val_auc: 0.7564\n",
      "Epoch 10/20\n",
      "18/18 [==============================] - 0s 2ms/step - loss: 0.6621 - auc: 0.8398 - val_loss: 0.7022 - val_auc: 0.7598\n",
      "Epoch 11/20\n",
      "18/18 [==============================] - 0s 2ms/step - loss: 0.6613 - auc: 0.8403 - val_loss: 0.7022 - val_auc: 0.7580\n",
      "Epoch 12/20\n",
      "18/18 [==============================] - 0s 2ms/step - loss: 0.6606 - auc: 0.8410 - val_loss: 0.7020 - val_auc: 0.7606\n",
      "Epoch 13/20\n",
      "18/18 [==============================] - 0s 2ms/step - loss: 0.6600 - auc: 0.8414 - val_loss: 0.7012 - val_auc: 0.7619\n",
      "Epoch 14/20\n",
      "18/18 [==============================] - 0s 2ms/step - loss: 0.6596 - auc: 0.8408 - val_loss: 0.7007 - val_auc: 0.7577\n",
      "Epoch 15/20\n",
      "18/18 [==============================] - 0s 2ms/step - loss: 0.6591 - auc: 0.8376 - val_loss: 0.7008 - val_auc: 0.7590\n",
      "Epoch 16/20\n",
      "18/18 [==============================] - 0s 2ms/step - loss: 0.6586 - auc: 0.8378 - val_loss: 0.7005 - val_auc: 0.7663\n",
      "Epoch 17/20\n",
      "18/18 [==============================] - 0s 2ms/step - loss: 0.6584 - auc: 0.8375 - val_loss: 0.7004 - val_auc: 0.7619\n",
      "Epoch 18/20\n",
      "18/18 [==============================] - 0s 2ms/step - loss: 0.6580 - auc: 0.8374 - val_loss: 0.7007 - val_auc: 0.7629\n",
      "Epoch 19/20\n",
      "18/18 [==============================] - 0s 2ms/step - loss: 0.6578 - auc: 0.8379 - val_loss: 0.7004 - val_auc: 0.7660\n",
      "Epoch 20/20\n",
      "18/18 [==============================] - 0s 2ms/step - loss: 0.6574 - auc: 0.8383 - val_loss: 0.7001 - val_auc: 0.7676\n"
     ]
    },
    {
     "data": {
      "text/plain": [
       "<tensorflow.python.keras.callbacks.History at 0x25352bc45b0>"
      ]
     },
     "execution_count": 16,
     "metadata": {},
     "output_type": "execute_result"
    }
   ],
   "source": [
    "model.fit(x_train_clean, y_train, epochs=20,shuffle=True, validation_data=(x_valid_clean, y_valid))"
   ]
  },
  {
   "cell_type": "code",
   "execution_count": 17,
   "id": "fdb6a9f4-2226-414a-9b39-8a5cd02dd684",
   "metadata": {},
   "outputs": [
    {
     "name": "stdout",
     "output_type": "stream",
     "text": [
      "Sobre train\n",
      "PRINCIPAL\n",
      "\tArea bajo la curva ROC: 0.7145804387183697\n",
      "SECUNDARIAS\n",
      "\tEspecificidad: 0.9316239316239316\n",
      "\tSesitividad: 0.4975369458128079\n",
      "\tValor predictivo positivo: 0.7622377622377622\n",
      "\tValor predictivo negativo: 0.808\n",
      "Sobre validation\n",
      "PRINCIPAL\n",
      "\tArea bajo la curva ROC: 0.6799687010954617\n",
      "SECUNDARIAS\n",
      "\tEspecificidad: 0.9154929577464789\n",
      "\tSesitividad: 0.4444444444444444\n",
      "\tValor predictivo positivo: 0.8125\n",
      "\tValor predictivo negativo: 0.6666666666666666\n"
     ]
    }
   ],
   "source": [
    "print('Sobre train')\n",
    "y_train_pred = model.predict(x_train_clean)\n",
    "print_metrics(y_train, np.rint(y_train_pred))\n",
    "print('Sobre validation')\n",
    "y_valid_pred = model.predict(x_valid_clean)\n",
    "print_metrics(y_valid, np.rint(y_valid_pred))"
   ]
  },
  {
   "cell_type": "code",
   "execution_count": 18,
   "id": "6828d327-ccaf-426a-9767-3d5358e948c2",
   "metadata": {},
   "outputs": [],
   "source": [
    "model = create_model(in_shape= (x_train_clean.shape[1],),\n",
    "                     optimizer_= Adam(learning_rate=0.1),\n",
    "                     metrics_ = [AUC()],\n",
    "                     loss_ = BinaryCrossentropy(from_logits=True))"
   ]
  },
  {
   "cell_type": "code",
   "execution_count": 19,
   "id": "61733367-102f-4fc2-ba67-7e50f60e8c3d",
   "metadata": {},
   "outputs": [
    {
     "name": "stdout",
     "output_type": "stream",
     "text": [
      "Epoch 1/20\n",
      "18/18 [==============================] - 0s 11ms/step - loss: 0.7289 - auc_1: 0.7004 - val_loss: 0.7338 - val_auc_1: 0.7144\n",
      "Epoch 2/20\n",
      "18/18 [==============================] - 0s 2ms/step - loss: 0.6697 - auc_1: 0.8273 - val_loss: 0.7040 - val_auc_1: 0.7467\n",
      "Epoch 3/20\n",
      "18/18 [==============================] - 0s 2ms/step - loss: 0.6595 - auc_1: 0.8320 - val_loss: 0.7006 - val_auc_1: 0.7572\n",
      "Epoch 4/20\n",
      "18/18 [==============================] - 0s 2ms/step - loss: 0.6579 - auc_1: 0.8316 - val_loss: 0.7012 - val_auc_1: 0.7514\n",
      "Epoch 5/20\n",
      "18/18 [==============================] - 0s 2ms/step - loss: 0.6563 - auc_1: 0.8323 - val_loss: 0.7014 - val_auc_1: 0.7587\n",
      "Epoch 6/20\n",
      "18/18 [==============================] - 0s 2ms/step - loss: 0.6562 - auc_1: 0.8278 - val_loss: 0.6986 - val_auc_1: 0.7548\n",
      "Epoch 7/20\n",
      "18/18 [==============================] - 0s 2ms/step - loss: 0.6562 - auc_1: 0.8190 - val_loss: 0.6974 - val_auc_1: 0.7598\n",
      "Epoch 8/20\n",
      "18/18 [==============================] - 0s 2ms/step - loss: 0.6551 - auc_1: 0.8188 - val_loss: 0.6995 - val_auc_1: 0.7488\n",
      "Epoch 9/20\n",
      "18/18 [==============================] - 0s 2ms/step - loss: 0.6544 - auc_1: 0.8193 - val_loss: 0.6996 - val_auc_1: 0.7478\n",
      "Epoch 10/20\n",
      "18/18 [==============================] - 0s 2ms/step - loss: 0.6542 - auc_1: 0.8170 - val_loss: 0.7003 - val_auc_1: 0.7358\n",
      "Epoch 11/20\n",
      "18/18 [==============================] - 0s 2ms/step - loss: 0.6537 - auc_1: 0.8154 - val_loss: 0.6979 - val_auc_1: 0.7415\n",
      "Epoch 12/20\n",
      "18/18 [==============================] - 0s 2ms/step - loss: 0.6535 - auc_1: 0.8134 - val_loss: 0.6978 - val_auc_1: 0.7407\n",
      "Epoch 13/20\n",
      "18/18 [==============================] - 0s 2ms/step - loss: 0.6531 - auc_1: 0.8125 - val_loss: 0.6968 - val_auc_1: 0.7387\n",
      "Epoch 14/20\n",
      "18/18 [==============================] - 0s 2ms/step - loss: 0.6533 - auc_1: 0.8080 - val_loss: 0.6957 - val_auc_1: 0.7368\n",
      "Epoch 15/20\n",
      "18/18 [==============================] - 0s 2ms/step - loss: 0.6534 - auc_1: 0.8053 - val_loss: 0.6966 - val_auc_1: 0.7379\n",
      "Epoch 16/20\n",
      "18/18 [==============================] - 0s 2ms/step - loss: 0.6526 - auc_1: 0.8080 - val_loss: 0.6979 - val_auc_1: 0.7321\n",
      "Epoch 17/20\n",
      "18/18 [==============================] - 0s 2ms/step - loss: 0.6523 - auc_1: 0.8052 - val_loss: 0.6949 - val_auc_1: 0.7277\n",
      "Epoch 18/20\n",
      "18/18 [==============================] - 0s 2ms/step - loss: 0.6523 - auc_1: 0.8028 - val_loss: 0.6961 - val_auc_1: 0.7034\n",
      "Epoch 19/20\n",
      "18/18 [==============================] - 0s 2ms/step - loss: 0.6521 - auc_1: 0.8024 - val_loss: 0.6963 - val_auc_1: 0.7092\n",
      "Epoch 20/20\n",
      "18/18 [==============================] - 0s 2ms/step - loss: 0.6522 - auc_1: 0.8021 - val_loss: 0.6952 - val_auc_1: 0.7131\n"
     ]
    },
    {
     "data": {
      "text/plain": [
       "<tensorflow.python.keras.callbacks.History at 0x2535552fdc0>"
      ]
     },
     "execution_count": 19,
     "metadata": {},
     "output_type": "execute_result"
    }
   ],
   "source": [
    "model.fit(x_train_clean, y_train, epochs=20,shuffle=True, validation_data=(x_valid_clean, y_valid))"
   ]
  },
  {
   "cell_type": "code",
   "execution_count": 20,
   "id": "e58a9896-a6a3-423e-8d87-11173cb1deb3",
   "metadata": {},
   "outputs": [
    {
     "name": "stdout",
     "output_type": "stream",
     "text": [
      "Sobre train\n",
      "PRINCIPAL\n",
      "\tArea bajo la curva ROC: 0.7307832652660239\n",
      "SECUNDARIAS\n",
      "\tEspecificidad: 0.9344729344729344\n",
      "\tSesitividad: 0.5270935960591133\n",
      "\tValor predictivo positivo: 0.7735849056603774\n",
      "\tValor predictivo negativo: 0.823076923076923\n",
      "Sobre validation\n",
      "PRINCIPAL\n",
      "\tArea bajo la curva ROC: 0.6914449660928533\n",
      "SECUNDARIAS\n",
      "\tEspecificidad: 0.9014084507042254\n",
      "\tSesitividad: 0.48148148148148145\n",
      "\tValor predictivo positivo: 0.8205128205128205\n",
      "\tValor predictivo negativo: 0.65\n"
     ]
    }
   ],
   "source": [
    "print('Sobre train')\n",
    "y_train_pred = model.predict(x_train_clean)\n",
    "print_metrics(y_train, np.rint(y_train_pred))\n",
    "print('Sobre validation')\n",
    "y_valid_pred = model.predict(x_valid_clean)\n",
    "print_metrics(y_valid, np.rint(y_valid_pred))"
   ]
  },
  {
   "cell_type": "code",
   "execution_count": 21,
   "id": "9863230d-e80d-4c4c-9e35-0437e61d7da5",
   "metadata": {},
   "outputs": [],
   "source": [
    "def model_builder(hp):\n",
    "    model = Sequential()\n",
    "    model.add(Dense(units=1, activation='sigmoid', input_shape=(x_train_clean.shape[1],)))\n",
    "    \n",
    "    # Optimizadores a porbar\n",
    "    optimizer_type = hp.Choice('optimizer_type', values=['SGD', 'Adam']) \n",
    "    # Hyperparametros para porbar en el optimizador\n",
    "    _learning_rate_ = hp.Choice('learning_rate', values=[1e-3, 1e-2, 0.1, 0.32, 0.56, 0.81, 1.0, 1.2, 1.5, 1.8, 2.0, 2.2, 2.7])\n",
    "    _momentum_ = hp.Choice('momentum', values=[0.5, 0.75, 0.85, 0.9, 0.99, 0.999])\n",
    "    \n",
    "    if optimizer_type == 'SGD':\n",
    "        _optimizer_ = SGD(learning_rate=_learning_rate_, momentum=_momentum_)\n",
    "    else:\n",
    "        _optimizer_ = Adam(learning_rate=_learning_rate_)\n",
    "    \n",
    "    _metrics_ = [AUC()]\n",
    "    _loss_ = BinaryCrossentropy(from_logits=True)\n",
    "    \n",
    "    model.compile(optimizer=_optimizer_,\n",
    "                  loss=_loss_,\n",
    "                  metrics=_metrics_)\n",
    "    \n",
    "    return model\n"
   ]
  },
  {
   "cell_type": "code",
   "execution_count": 22,
   "id": "269939a2-86db-4e04-b893-415ff5ae5f7a",
   "metadata": {},
   "outputs": [],
   "source": [
    "hyptester = kt.Hyperband(model_builder, kt.Objective('val_loss', direction='min'), max_epochs=15, factor=3)"
   ]
  },
  {
   "cell_type": "code",
   "execution_count": 23,
   "id": "f1c03358-8f11-46e5-9643-e65832764b69",
   "metadata": {},
   "outputs": [
    {
     "name": "stdout",
     "output_type": "stream",
     "text": [
      "Trial 30 Complete [00h 00m 01s]\n",
      "val_loss: 0.6863452196121216\n",
      "\n",
      "Best val_loss So Far: 0.6806035041809082\n",
      "Total elapsed time: 00h 00m 52s\n",
      "INFO:tensorflow:Oracle triggered exit\n"
     ]
    }
   ],
   "source": [
    "hyptester.search(x_train_clean, y_train, epochs=50, validation_data=(x_valid_clean, y_valid))\n",
    "hyperparams = hyptester.get_best_hyperparameters(num_trials=2)[0]"
   ]
  },
  {
   "cell_type": "code",
   "execution_count": 24,
   "id": "d2c48c33-b771-4d52-b746-8e828964a1ff",
   "metadata": {},
   "outputs": [
    {
     "name": "stdout",
     "output_type": "stream",
     "text": [
      "best momentum 0.9\n",
      "best learning_rate 2.0\n",
      "best optimizer Adam\n"
     ]
    }
   ],
   "source": [
    "print('best momentum',hyperparams.get('momentum'))\n",
    "print('best learning_rate',hyperparams.get('learning_rate'))\n",
    "print('best optimizer', hyperparams.get('optimizer_type'))"
   ]
  },
  {
   "cell_type": "code",
   "execution_count": 25,
   "id": "24f9c8f2-8c6b-446d-b908-9a6657e828c0",
   "metadata": {},
   "outputs": [
    {
     "name": "stdout",
     "output_type": "stream",
     "text": [
      "Epoch 1/20\n",
      "18/18 [==============================] - 0s 12ms/step - loss: 0.7063 - auc: 0.7052 - val_loss: 0.7265 - val_auc: 0.6693\n",
      "Epoch 2/20\n",
      "18/18 [==============================] - 0s 2ms/step - loss: 0.6705 - auc: 0.7225 - val_loss: 0.7159 - val_auc: 0.6641\n",
      "Epoch 3/20\n",
      "18/18 [==============================] - 0s 2ms/step - loss: 0.6624 - auc: 0.7179 - val_loss: 0.6900 - val_auc: 0.6575\n",
      "Epoch 4/20\n",
      "18/18 [==============================] - 0s 2ms/step - loss: 0.6562 - auc: 0.7108 - val_loss: 0.6885 - val_auc: 0.6552\n",
      "Epoch 5/20\n",
      "18/18 [==============================] - 0s 2ms/step - loss: 0.6610 - auc: 0.6901 - val_loss: 0.6840 - val_auc: 0.7136\n",
      "Epoch 6/20\n",
      "18/18 [==============================] - 0s 2ms/step - loss: 0.6588 - auc: 0.7018 - val_loss: 0.6835 - val_auc: 0.6787\n",
      "Epoch 7/20\n",
      "18/18 [==============================] - 0s 2ms/step - loss: 0.6614 - auc: 0.6793 - val_loss: 0.6842 - val_auc: 0.6390\n",
      "Epoch 8/20\n",
      "18/18 [==============================] - 0s 2ms/step - loss: 0.6548 - auc: 0.7060 - val_loss: 0.6869 - val_auc: 0.6982\n",
      "Epoch 9/20\n",
      "18/18 [==============================] - 0s 2ms/step - loss: 0.6560 - auc: 0.7201 - val_loss: 0.6935 - val_auc: 0.6854\n",
      "Epoch 10/20\n",
      "18/18 [==============================] - 0s 2ms/step - loss: 0.6526 - auc: 0.7172 - val_loss: 0.6928 - val_auc: 0.6813\n",
      "Epoch 11/20\n",
      "18/18 [==============================] - 0s 2ms/step - loss: 0.6504 - auc: 0.7192 - val_loss: 0.7021 - val_auc: 0.6839\n",
      "Epoch 12/20\n",
      "18/18 [==============================] - 0s 2ms/step - loss: 0.6505 - auc: 0.7239 - val_loss: 0.6947 - val_auc: 0.6854\n",
      "Epoch 13/20\n",
      "18/18 [==============================] - 0s 2ms/step - loss: 0.6561 - auc: 0.7007 - val_loss: 0.6870 - val_auc: 0.6912\n",
      "Epoch 14/20\n",
      "18/18 [==============================] - 0s 2ms/step - loss: 0.6582 - auc: 0.7114 - val_loss: 0.6847 - val_auc: 0.6896\n",
      "Epoch 15/20\n",
      "18/18 [==============================] - 0s 2ms/step - loss: 0.6613 - auc: 0.7171 - val_loss: 0.6860 - val_auc: 0.7121\n",
      "Epoch 16/20\n",
      "18/18 [==============================] - 0s 2ms/step - loss: 0.6645 - auc: 0.7225 - val_loss: 0.7001 - val_auc: 0.6768\n",
      "Epoch 17/20\n",
      "18/18 [==============================] - 0s 2ms/step - loss: 0.6561 - auc: 0.7358 - val_loss: 0.6886 - val_auc: 0.6802\n",
      "Epoch 18/20\n",
      "18/18 [==============================] - 0s 2ms/step - loss: 0.6570 - auc: 0.7187 - val_loss: 0.6985 - val_auc: 0.6604\n",
      "Epoch 19/20\n",
      "18/18 [==============================] - 0s 2ms/step - loss: 0.6674 - auc: 0.7030 - val_loss: 0.7068 - val_auc: 0.6573\n",
      "Epoch 20/20\n",
      "18/18 [==============================] - 0s 2ms/step - loss: 0.6571 - auc: 0.7302 - val_loss: 0.7085 - val_auc: 0.6635\n"
     ]
    },
    {
     "data": {
      "text/plain": [
       "<tensorflow.python.keras.callbacks.History at 0x25356d07640>"
      ]
     },
     "execution_count": 25,
     "metadata": {},
     "output_type": "execute_result"
    }
   ],
   "source": [
    "best_hyp_model = hyptester.hypermodel.build(hyperparams)\n",
    "best_hyp_model.fit(x_train_clean, y_train, epochs=20,shuffle=True, validation_data=(x_valid_clean, y_valid))"
   ]
  },
  {
   "cell_type": "code",
   "execution_count": 26,
   "id": "40fe51cb-67fa-4c85-91d9-474d6d817ecd",
   "metadata": {},
   "outputs": [
    {
     "name": "stdout",
     "output_type": "stream",
     "text": [
      "Sobre train\n",
      "PRINCIPAL\n",
      "\tArea bajo la curva ROC: 0.7428599497565015\n",
      "SECUNDARIAS\n",
      "\tEspecificidad: 0.8945868945868946\n",
      "\tSesitividad: 0.5911330049261084\n",
      "\tValor predictivo positivo: 0.7909319899244333\n",
      "\tValor predictivo negativo: 0.7643312101910829\n",
      "Sobre validation\n",
      "PRINCIPAL\n",
      "\tArea bajo la curva ROC: 0.6632759520083463\n",
      "SECUNDARIAS\n",
      "\tEspecificidad: 0.8450704225352113\n",
      "\tSesitividad: 0.48148148148148145\n",
      "\tValor predictivo positivo: 0.8108108108108109\n",
      "\tValor predictivo negativo: 0.5416666666666666\n"
     ]
    }
   ],
   "source": [
    "print('Sobre train')\n",
    "y_train_pred = best_hyp_model.predict(x_train_clean)\n",
    "print_metrics(y_train, np.rint(y_train_pred))\n",
    "print('Sobre validation')\n",
    "y_valid_pred = best_hyp_model.predict(x_valid_clean)\n",
    "print_metrics(y_valid, np.rint(y_valid_pred))"
   ]
  },
  {
   "cell_type": "markdown",
   "id": "a3203e64-be1e-4a9d-843a-7d3b97ccaeeb",
   "metadata": {},
   "source": [
    "# Early Stopping\n",
    "\n",
    "Detiene el entrenamiento de forma anticipada si se llega a cierto valor de un parametro determinado, en principio permite agilizar las pruebas al buscar hyperparámetros, descartanto rapidamenete las combinacion que converjan rapidamente a un valor esperado\n",
    "\n",
    "Los hyperparámetrso principales de este callback son:\n",
    "- monitor: indica la variable a monitorear (valga la redundancia)\n",
    "- min_delta: la minima diferencia que se considera como mejora\n",
    "- patience: cantidad de epochs sin mejoras antes de parar"
   ]
  },
  {
   "cell_type": "code",
   "execution_count": 47,
   "id": "014a7173-3740-429b-bb70-c1e2c6972a7f",
   "metadata": {},
   "outputs": [],
   "source": [
    "stop_early = EarlyStopping(monitor='val_loss', patience=15)"
   ]
  },
  {
   "cell_type": "code",
   "execution_count": 48,
   "id": "cb431cdd-0057-4e56-bfa9-2bc34e114b0b",
   "metadata": {},
   "outputs": [
    {
     "name": "stdout",
     "output_type": "stream",
     "text": [
      "Trial 90 Complete [00h 00m 02s]\n",
      "val_loss: 0.6901907920837402\n",
      "\n",
      "Best val_loss So Far: 0.6796790361404419\n",
      "Total elapsed time: 00h 03m 46s\n",
      "INFO:tensorflow:Oracle triggered exit\n",
      "best momentum 0.99\n",
      "best learning_rate 1.0\n",
      "best optimizer SGD\n"
     ]
    }
   ],
   "source": [
    "hyptester_es = kt.Hyperband(model_builder, kt.Objective('val_loss', direction='min'), max_epochs=50, factor=3)\n",
    "hyptester_es.search(x_train_clean, y_train, epochs=50, validation_data=(x_valid_clean, y_valid), callbacks=[stop_early])\n",
    "# Get the optimal hyperparameters\n",
    "hyperparams_es = hyptester_es.get_best_hyperparameters(num_trials=2)[0]\n",
    "print('best momentum',hyperparams_es.get('momentum'))\n",
    "print('best learning_rate',hyperparams_es.get('learning_rate'))\n",
    "print('best optimizer', hyperparams_es.get('optimizer_type'))"
   ]
  },
  {
   "cell_type": "code",
   "execution_count": 53,
   "id": "cdb83af4-56b6-4b5d-8c71-6cc1bd2b1bd6",
   "metadata": {},
   "outputs": [
    {
     "name": "stdout",
     "output_type": "stream",
     "text": [
      "Epoch 1/50\n",
      "18/18 [==============================] - 0s 17ms/step - loss: 0.7022 - auc: 0.7445 - val_loss: 0.7027 - val_auc: 0.7055\n",
      "Epoch 2/50\n",
      "18/18 [==============================] - 0s 3ms/step - loss: 0.6587 - auc: 0.7729 - val_loss: 0.6916 - val_auc: 0.6440\n",
      "Epoch 3/50\n",
      "18/18 [==============================] - 0s 3ms/step - loss: 0.6607 - auc: 0.7365 - val_loss: 0.6896 - val_auc: 0.6528\n",
      "Epoch 4/50\n",
      "18/18 [==============================] - 0s 2ms/step - loss: 0.6570 - auc: 0.7199 - val_loss: 0.6859 - val_auc: 0.6492\n",
      "Epoch 5/50\n",
      "18/18 [==============================] - 0s 2ms/step - loss: 0.6532 - auc: 0.7232 - val_loss: 0.6854 - val_auc: 0.6505\n",
      "Epoch 6/50\n",
      "18/18 [==============================] - 0s 3ms/step - loss: 0.6533 - auc: 0.7307 - val_loss: 0.6910 - val_auc: 0.6560\n",
      "Epoch 7/50\n",
      "18/18 [==============================] - 0s 3ms/step - loss: 0.6531 - auc: 0.7342 - val_loss: 0.6966 - val_auc: 0.6724\n",
      "Epoch 8/50\n",
      "18/18 [==============================] - 0s 3ms/step - loss: 0.6523 - auc: 0.7382 - val_loss: 0.6990 - val_auc: 0.6560\n",
      "Epoch 9/50\n",
      "18/18 [==============================] - 0s 3ms/step - loss: 0.6511 - auc: 0.7397 - val_loss: 0.7002 - val_auc: 0.6560\n",
      "Epoch 10/50\n",
      "18/18 [==============================] - 0s 3ms/step - loss: 0.6507 - auc: 0.7339 - val_loss: 0.7007 - val_auc: 0.6531\n",
      "Epoch 11/50\n",
      "18/18 [==============================] - 0s 3ms/step - loss: 0.6510 - auc: 0.7313 - val_loss: 0.7009 - val_auc: 0.6489\n",
      "Epoch 12/50\n",
      "18/18 [==============================] - 0s 4ms/step - loss: 0.6515 - auc: 0.7327 - val_loss: 0.7011 - val_auc: 0.6502\n",
      "Epoch 13/50\n",
      "18/18 [==============================] - 0s 3ms/step - loss: 0.6511 - auc: 0.7329 - val_loss: 0.7011 - val_auc: 0.6474\n",
      "Epoch 14/50\n",
      "18/18 [==============================] - 0s 3ms/step - loss: 0.6512 - auc: 0.7332 - val_loss: 0.7011 - val_auc: 0.6453\n",
      "Epoch 15/50\n",
      "18/18 [==============================] - 0s 3ms/step - loss: 0.6509 - auc: 0.7316 - val_loss: 0.7011 - val_auc: 0.6481\n",
      "Epoch 16/50\n",
      "18/18 [==============================] - 0s 3ms/step - loss: 0.6507 - auc: 0.7351 - val_loss: 0.7010 - val_auc: 0.6484\n",
      "Epoch 17/50\n",
      "18/18 [==============================] - 0s 3ms/step - loss: 0.6508 - auc: 0.7338 - val_loss: 0.7009 - val_auc: 0.6484\n",
      "Epoch 18/50\n",
      "18/18 [==============================] - 0s 3ms/step - loss: 0.6510 - auc: 0.7340 - val_loss: 0.7009 - val_auc: 0.6502\n",
      "Epoch 19/50\n",
      "18/18 [==============================] - 0s 3ms/step - loss: 0.6510 - auc: 0.7328 - val_loss: 0.7010 - val_auc: 0.6502\n",
      "Epoch 20/50\n",
      "18/18 [==============================] - 0s 3ms/step - loss: 0.6505 - auc: 0.7326 - val_loss: 0.7011 - val_auc: 0.6502\n",
      "Sobre train\n",
      "PRINCIPAL\n",
      "\tArea bajo la curva ROC: 0.7271623650933995\n",
      "SECUNDARIAS\n",
      "\tEspecificidad: 0.9173789173789174\n",
      "\tSesitividad: 0.5369458128078818\n",
      "\tValor predictivo positivo: 0.7740384615384616\n",
      "\tValor predictivo negativo: 0.7898550724637681\n",
      "Sobre validation\n",
      "PRINCIPAL\n",
      "\tArea bajo la curva ROC: 0.6473656755346896\n",
      "SECUNDARIAS\n",
      "\tEspecificidad: 0.8873239436619719\n",
      "\tSesitividad: 0.4074074074074074\n",
      "\tValor predictivo positivo: 0.7974683544303798\n",
      "\tValor predictivo negativo: 0.5789473684210527\n"
     ]
    }
   ],
   "source": [
    "best_hyp_model_es = hyptester_es.hypermodel.build(hyperparams_es)\n",
    "best_hyp_model_es.fit(x_train_clean, y_train, epochs=50,shuffle=True, validation_data=(x_valid_clean, y_valid), callbacks=[stop_early])\n",
    "print('Sobre train')\n",
    "y_train_pred = best_hyp_model_es.predict(x_train_clean)\n",
    "print_metrics(y_train, np.rint(y_train_pred))\n",
    "print('Sobre validation')\n",
    "y_valid_pred = best_hyp_model_es.predict(x_valid_clean)\n",
    "print_metrics(y_valid, np.rint(y_valid_pred))"
   ]
  },
  {
   "cell_type": "markdown",
   "id": "30dd46d1-8c58-4eb0-bfd6-4dcaeb7f156c",
   "metadata": {},
   "source": [
    "Se puede ver que los resultados sobre el set de validación son similares, lo que fue beneficioso al utilizar el earlystopping fue la posibilidad de probar una mayor cantidad de combinaciónes de hyperparámetros en un tiempo similar, obteniendo asi una combinación de hyperparámetros más confiable"
   ]
  },
  {
   "cell_type": "markdown",
   "id": "d6e91571-5c03-4175-a94c-d3503a40ea63",
   "metadata": {},
   "source": [
    "# Learning Rate Scheduler\n",
    "\n",
    "Permite ajustar el learning rate en funcion del epoch que se esta trabajando, por lo tanto dependiendo la funcion de costos minimizarla de forma más rapida y eficiente???"
   ]
  },
  {
   "cell_type": "code",
   "execution_count": 61,
   "id": "786ed5b2-60fa-49a7-8062-e1883d61e3f9",
   "metadata": {},
   "outputs": [],
   "source": [
    "def schedule(epoch, lr):\n",
    "    if epoch < 5:\n",
    "        return lr\n",
    "    else:\n",
    "        return lr * np.exp(-0.8)"
   ]
  },
  {
   "cell_type": "code",
   "execution_count": 62,
   "id": "ac071c8c-9b84-44f2-ac3d-502b21d04209",
   "metadata": {},
   "outputs": [],
   "source": [
    "scheduler = LearningRateScheduler(schedule)"
   ]
  },
  {
   "cell_type": "code",
   "execution_count": 64,
   "id": "b567a868-158f-4156-a20d-d6e70846d473",
   "metadata": {},
   "outputs": [
    {
     "name": "stdout",
     "output_type": "stream",
     "text": [
      "Epoch 1/50\n",
      "18/18 [==============================] - 0s 17ms/step - loss: 0.6874 - auc: 0.7871 - val_loss: 0.6933 - val_auc: 0.7293\n",
      "Epoch 2/50\n",
      "18/18 [==============================] - 0s 2ms/step - loss: 0.6569 - auc: 0.7847 - val_loss: 0.6823 - val_auc: 0.6815\n",
      "Epoch 3/50\n",
      "18/18 [==============================] - 0s 3ms/step - loss: 0.6562 - auc: 0.7611 - val_loss: 0.6831 - val_auc: 0.6896\n",
      "Epoch 4/50\n",
      "18/18 [==============================] - 0s 3ms/step - loss: 0.6532 - auc: 0.7454 - val_loss: 0.6836 - val_auc: 0.6883\n",
      "Epoch 5/50\n",
      "18/18 [==============================] - 0s 3ms/step - loss: 0.6503 - auc: 0.7339 - val_loss: 0.6842 - val_auc: 0.6896\n",
      "Epoch 6/50\n",
      "18/18 [==============================] - 0s 2ms/step - loss: 0.6515 - auc: 0.7309 - val_loss: 0.6867 - val_auc: 0.6886\n",
      "Epoch 7/50\n",
      "18/18 [==============================] - 0s 2ms/step - loss: 0.6513 - auc: 0.7287 - val_loss: 0.6891 - val_auc: 0.6886\n",
      "Epoch 8/50\n",
      "18/18 [==============================] - 0s 2ms/step - loss: 0.6509 - auc: 0.7283 - val_loss: 0.6909 - val_auc: 0.6917\n",
      "Epoch 9/50\n",
      "18/18 [==============================] - 0s 3ms/step - loss: 0.6503 - auc: 0.7274 - val_loss: 0.6919 - val_auc: 0.6886\n",
      "Epoch 10/50\n",
      "18/18 [==============================] - 0s 2ms/step - loss: 0.6500 - auc: 0.7229 - val_loss: 0.6922 - val_auc: 0.6886\n",
      "Epoch 11/50\n",
      "18/18 [==============================] - 0s 2ms/step - loss: 0.6498 - auc: 0.7228 - val_loss: 0.6923 - val_auc: 0.6849\n",
      "Epoch 12/50\n",
      "18/18 [==============================] - 0s 2ms/step - loss: 0.6499 - auc: 0.7215 - val_loss: 0.6923 - val_auc: 0.6813\n",
      "Epoch 13/50\n",
      "18/18 [==============================] - 0s 2ms/step - loss: 0.6499 - auc: 0.7215 - val_loss: 0.6923 - val_auc: 0.6810\n",
      "Epoch 14/50\n",
      "18/18 [==============================] - 0s 2ms/step - loss: 0.6500 - auc: 0.7217 - val_loss: 0.6923 - val_auc: 0.6805\n",
      "Epoch 15/50\n",
      "18/18 [==============================] - 0s 2ms/step - loss: 0.6501 - auc: 0.7192 - val_loss: 0.6923 - val_auc: 0.6802\n",
      "Epoch 16/50\n",
      "18/18 [==============================] - 0s 3ms/step - loss: 0.6502 - auc: 0.7181 - val_loss: 0.6924 - val_auc: 0.6776\n",
      "Epoch 17/50\n",
      "18/18 [==============================] - 0s 3ms/step - loss: 0.6503 - auc: 0.7182 - val_loss: 0.6924 - val_auc: 0.6776\n",
      "\n",
      "Sobre train\n",
      "PRINCIPAL\n",
      "\tArea bajo la curva ROC: 0.7075772248186042\n",
      "SECUNDARIAS\n",
      "\tEspecificidad: 0.9373219373219374\n",
      "\tSesitividad: 0.47783251231527096\n",
      "\tValor predictivo positivo: 0.7563218390804598\n",
      "\tValor predictivo negativo: 0.8151260504201681\n",
      "Sobre validation\n",
      "PRINCIPAL\n",
      "\tArea bajo la curva ROC: 0.6729264475743348\n",
      "SECUNDARIAS\n",
      "\tEspecificidad: 0.9014084507042254\n",
      "\tSesitividad: 0.4444444444444444\n",
      "\tValor predictivo positivo: 0.810126582278481\n",
      "\tValor predictivo negativo: 0.631578947368421\n"
     ]
    }
   ],
   "source": [
    "best_hyp_model_es_sched = hyptester_es.hypermodel.build(hyperparams_es)\n",
    "best_hyp_model_es_sched.fit(x_train_clean, y_train, epochs=50,shuffle=True, validation_data=(x_valid_clean, y_valid), \n",
    "                            callbacks=[stop_early, scheduler])\n",
    "print('\\nSobre train')\n",
    "y_train_pred = best_hyp_model_es_sched.predict(x_train_clean)\n",
    "print_metrics(y_train, np.rint(y_train_pred))\n",
    "print('Sobre validation')\n",
    "y_valid_pred = best_hyp_model_es_sched.predict(x_valid_clean)\n",
    "print_metrics(y_valid, np.rint(y_valid_pred))"
   ]
  },
  {
   "cell_type": "markdown",
   "id": "57385720-d426-4bd2-a599-5963dae39d96",
   "metadata": {},
   "source": [
    "# Model CheckPoint & Tensorboard"
   ]
  },
  {
   "cell_type": "markdown",
   "id": "7cebe1af-870c-48f2-888c-ceb70c64c9e2",
   "metadata": {},
   "source": [
    "# Tecnicas de Regularización\n",
    "\n",
    "*   Drop out\n",
    "\n",
    "*   Regularización L1\n",
    "*   Regularización L2\n",
    "*   Batch Normalization\n"
   ]
  }
 ],
 "metadata": {
  "kernelspec": {
   "display_name": "Python 3",
   "language": "python",
   "name": "python3"
  },
  "language_info": {
   "codemirror_mode": {
    "name": "ipython",
    "version": 3
   },
   "file_extension": ".py",
   "mimetype": "text/x-python",
   "name": "python",
   "nbconvert_exporter": "python",
   "pygments_lexer": "ipython3",
   "version": "3.8.8"
  }
 },
 "nbformat": 4,
 "nbformat_minor": 5
}
