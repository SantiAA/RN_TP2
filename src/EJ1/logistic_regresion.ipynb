{
 "cells": [
  {
   "cell_type": "code",
   "execution_count": 22,
   "id": "df0b47e9-2785-49ec-9676-c5adf3c2b672",
   "metadata": {},
   "outputs": [],
   "source": [
    "import pandas as pd\n",
    "import matplotlib.pyplot as plt\n",
    "import numpy as np\n",
    "from tensorflow import keras"
   ]
  },
  {
   "cell_type": "code",
   "execution_count": 23,
   "id": "c1534c17-095f-4ae2-b4c8-e9d045b15911",
   "metadata": {},
   "outputs": [],
   "source": [
    "from sklearn.model_selection import train_test_split\n",
    "from sklearn.metrics import roc_auc_score, roc_curve, confusion_matrix, auc"
   ]
  },
  {
   "cell_type": "code",
   "execution_count": 61,
   "id": "99c9cd02-281b-4a7f-9ab9-fed9e4936fd8",
   "metadata": {},
   "outputs": [],
   "source": [
    "from keras.models import Sequential\n",
    "from keras.layers import Dense, Dropout\n",
    "from keras.optimizers import SGD, Adam\n",
    "from keras.metrics import AUC # Area under the curve, default: ROC\n",
    "from keras.losses import BinaryCrossentropy\n",
    "from keras.callbacks import EarlyStopping, LearningRateScheduler\n",
    "from keras.initializers import GlorotNormal\n",
    "import kerastuner as kt"
   ]
  },
  {
   "cell_type": "code",
   "execution_count": 25,
   "id": "b4ccab9d-c57f-4c6b-b6cd-570bf08a6259",
   "metadata": {},
   "outputs": [],
   "source": [
    "def replace_outliers_zeros(data_frame, outlayers_keys: dict, zero_keys: list, mean_median = False, data_to_replace = None):\n",
    "    \"\"\"\n",
    "    Fuction to replace outliers from data_frame\n",
    "    and replace them with median or mean value\n",
    "    Don't afect the original data frame, returns a copy \n",
    "    with the parameters changed\n",
    "    \"\"\"\n",
    "    data = data_frame.copy()\n",
    "    if len(zero_keys) != 0:\n",
    "        for key in zero_keys:\n",
    "            data.loc[data[key] == 0, key] = np.NaN\n",
    "            \n",
    "    replace = {}\n",
    "    if not data_to_replace:\n",
    "        for x in data.keys():\n",
    "            if mean_median:\n",
    "                replace[x] = np.mean(data[x].dropna())\n",
    "            else:\n",
    "                replace[x] = np.median(data[x].dropna())\n",
    "    else:\n",
    "        replace = data_to_replace.copy()\n",
    "        \n",
    "    for key, val in outlayers_keys.items():\n",
    "        data.loc[data[key] < val[0], key] = np.NaN\n",
    "        data.loc[data[key] > val[1], key] = np.NaN\n",
    "    \n",
    "    for key, val in replace.items():\n",
    "        data[key] = data[key].replace(np.NaN, replace[key])\n",
    "        \n",
    "    return data, replace\n",
    "\n",
    "\n",
    "def normalize(data_frame, data_to_norm=None):\n",
    "    data = data_frame.copy()\n",
    "    norm_std = {}\n",
    "    if not data_to_norm:\n",
    "        for key in data:\n",
    "            k_mean = np.mean(data[key])\n",
    "            k_std = np.std(data[key])\n",
    "            norm_std[key] = [k_mean, k_std]\n",
    "    else:\n",
    "        norm_std = data_to_norm.copy()\n",
    "        \n",
    "    for key in data:\n",
    "        data[key] = (data[key]-norm_std[key][0])/norm_std[key][1]\n",
    "        \n",
    "    return data, norm_std\n",
    "\n",
    "def metrics(tn, fp, fn, tp):\n",
    "    spec = tn / (tn + fp + 1e-15)\n",
    "    neg_pred_val = tn / (tn + fn + 1e-15)\n",
    "    sens = tp / (tp + fn + 1e-15)\n",
    "    pos_pred_val = tp / (tp + fp + 1e-15)\n",
    "    print('\\tEspecificidad: {}\\n\\tSesitividad: {}\\n\\tValor predictivo positivo: {}\\n\\tValor predictivo negativo: {}'.format(spec, \n",
    "                                                                                                                    sens, \n",
    "                                                                                                                    neg_pred_val, \n",
    "                                                                                                                    pos_pred_val))\n",
    "    \n",
    "def print_metrics(y, y_pred):\n",
    "    fpr, tpr, th = roc_curve(y, y_pred)\n",
    "    roc_auc = roc_auc_score(y, y_pred)\n",
    "    plt.figure(1)\n",
    "    plt.plot([0, 1], [0, 1], 'k--')\n",
    "    plt.plot(fpr, tpr, label='AUC={}'.format(roc_auc))\n",
    "    plt.title('ROC Curve')\n",
    "    plt.show()\n",
    "    print('PRINCIPAL\\n\\tArea bajo la curva ROC: {}\\nSECUNDARIAS'.format(roc_auc))\n",
    "    tn, fp, fn, tp = confusion_matrix(y, np.rint(y_pred)).ravel()\n",
    "    metrics(tn, fp, fn, tp)\n",
    "    \n",
    "    \n",
    "def verify_model(my_model, x_train, y_train, x_validation, y_validation):\n",
    "    print('Sobre train')\n",
    "    y_train_pred = my_model.predict(x_train)\n",
    "    print_metrics(y_train, y_train_pred)\n",
    "    print('Sobre validation')\n",
    "    y_valid_pred = my_model.predict(x_validation)\n",
    "    print_metrics(y_validation, y_valid_pred)\n",
    "    \n",
    "\n",
    "def run_tunner(name, model_builder, x_train, y_train, x_validation, y_validation, my_callbacks=[]):\n",
    "    hyptester = kt.Hyperband(model_builder, \n",
    "                             kt.Objective('val_auc', direction='max'), \n",
    "                             max_epochs=15, \n",
    "                             factor=3,\n",
    "                             project_name=name,\n",
    "                             directory='D:/Documents/Keras/models'\n",
    "                            )\n",
    "    hyptester.search(x_train, y_train, \n",
    "                     epochs=50, \n",
    "                     validation_data=(x_validation, y_validation))\n",
    "    \n",
    "    hyperparams = hyptester.get_best_hyperparameters(num_trials=2)[0]\n",
    "    best = hyptester.hypermodel.build(hyperparams)\n",
    "    history = best.fit(x_train, y_train, epochs=100,\n",
    "                       validation_data=(x_validation, y_validation), verbose=0,\n",
    "                       callbacks=my_callbacks)\n",
    "    return best, history, hyperparams"
   ]
  },
  {
   "cell_type": "code",
   "execution_count": 26,
   "id": "c478635e-c27e-4b2d-94fc-3f90ddb39875",
   "metadata": {},
   "outputs": [],
   "source": [
    "df = pd.read_csv('../../databases/diabetes.csv')"
   ]
  },
  {
   "cell_type": "code",
   "execution_count": 27,
   "id": "4ffcf5d5-49ff-488c-b488-d28ff05fc863",
   "metadata": {},
   "outputs": [
    {
     "data": {
      "text/html": [
       "<div>\n",
       "<style scoped>\n",
       "    .dataframe tbody tr th:only-of-type {\n",
       "        vertical-align: middle;\n",
       "    }\n",
       "\n",
       "    .dataframe tbody tr th {\n",
       "        vertical-align: top;\n",
       "    }\n",
       "\n",
       "    .dataframe thead th {\n",
       "        text-align: right;\n",
       "    }\n",
       "</style>\n",
       "<table border=\"1\" class=\"dataframe\">\n",
       "  <thead>\n",
       "    <tr style=\"text-align: right;\">\n",
       "      <th></th>\n",
       "      <th>Pregnancies</th>\n",
       "      <th>Glucose</th>\n",
       "      <th>BloodPressure</th>\n",
       "      <th>SkinThickness</th>\n",
       "      <th>Insulin</th>\n",
       "      <th>BMI</th>\n",
       "      <th>DiabetesPedigreeFunction</th>\n",
       "      <th>Age</th>\n",
       "      <th>Outcome</th>\n",
       "    </tr>\n",
       "  </thead>\n",
       "  <tbody>\n",
       "    <tr>\n",
       "      <th>0</th>\n",
       "      <td>6</td>\n",
       "      <td>148</td>\n",
       "      <td>72</td>\n",
       "      <td>35</td>\n",
       "      <td>0</td>\n",
       "      <td>33.6</td>\n",
       "      <td>0.627</td>\n",
       "      <td>50</td>\n",
       "      <td>1</td>\n",
       "    </tr>\n",
       "    <tr>\n",
       "      <th>1</th>\n",
       "      <td>1</td>\n",
       "      <td>85</td>\n",
       "      <td>66</td>\n",
       "      <td>29</td>\n",
       "      <td>0</td>\n",
       "      <td>26.6</td>\n",
       "      <td>0.351</td>\n",
       "      <td>31</td>\n",
       "      <td>0</td>\n",
       "    </tr>\n",
       "    <tr>\n",
       "      <th>2</th>\n",
       "      <td>8</td>\n",
       "      <td>183</td>\n",
       "      <td>64</td>\n",
       "      <td>0</td>\n",
       "      <td>0</td>\n",
       "      <td>23.3</td>\n",
       "      <td>0.672</td>\n",
       "      <td>32</td>\n",
       "      <td>1</td>\n",
       "    </tr>\n",
       "    <tr>\n",
       "      <th>3</th>\n",
       "      <td>1</td>\n",
       "      <td>89</td>\n",
       "      <td>66</td>\n",
       "      <td>23</td>\n",
       "      <td>94</td>\n",
       "      <td>28.1</td>\n",
       "      <td>0.167</td>\n",
       "      <td>21</td>\n",
       "      <td>0</td>\n",
       "    </tr>\n",
       "    <tr>\n",
       "      <th>4</th>\n",
       "      <td>0</td>\n",
       "      <td>137</td>\n",
       "      <td>40</td>\n",
       "      <td>35</td>\n",
       "      <td>168</td>\n",
       "      <td>43.1</td>\n",
       "      <td>2.288</td>\n",
       "      <td>33</td>\n",
       "      <td>1</td>\n",
       "    </tr>\n",
       "  </tbody>\n",
       "</table>\n",
       "</div>"
      ],
      "text/plain": [
       "   Pregnancies  Glucose  BloodPressure  SkinThickness  Insulin   BMI  \\\n",
       "0            6      148             72             35        0  33.6   \n",
       "1            1       85             66             29        0  26.6   \n",
       "2            8      183             64              0        0  23.3   \n",
       "3            1       89             66             23       94  28.1   \n",
       "4            0      137             40             35      168  43.1   \n",
       "\n",
       "   DiabetesPedigreeFunction  Age  Outcome  \n",
       "0                     0.627   50        1  \n",
       "1                     0.351   31        0  \n",
       "2                     0.672   32        1  \n",
       "3                     0.167   21        0  \n",
       "4                     2.288   33        1  "
      ]
     },
     "execution_count": 27,
     "metadata": {},
     "output_type": "execute_result"
    }
   ],
   "source": [
    "df.head()"
   ]
  },
  {
   "cell_type": "markdown",
   "id": "9a363f85-b0ef-4639-8555-030791d3ff2a",
   "metadata": {},
   "source": [
    "Tomando el EDA del Tp1, se reemplazan los valores no medidos por NaN y se quitan los outlayers para luego reemplazarlos por la media o la mediana"
   ]
  },
  {
   "cell_type": "code",
   "execution_count": 28,
   "id": "a991f812-f302-4746-9bb3-417274bb6ed2",
   "metadata": {},
   "outputs": [],
   "source": [
    "outlayers = {\n",
    "    'BloodPressure': (40, np.Inf),\n",
    "    'SkinThickness': (0, 80),\n",
    "    'Insulin': (0, 400),\n",
    "    'BMI': (0, 50)\n",
    "}\n",
    "\n",
    "zeros = [\n",
    "    'Glucose',\n",
    "    'BloodPressure',\n",
    "    'SkinThickness',\n",
    "    'Insulin',\n",
    "    'BMI'\n",
    "]"
   ]
  },
  {
   "cell_type": "code",
   "execution_count": 29,
   "id": "0808750b-78d7-4d95-a424-f870a9938c55",
   "metadata": {},
   "outputs": [],
   "source": [
    "x_data = df[['Pregnancies', 'Glucose', 'BloodPressure', 'SkinThickness', 'Insulin','BMI', 'DiabetesPedigreeFunction', 'Age']]\n",
    "y_data = df['Outcome']"
   ]
  },
  {
   "cell_type": "code",
   "execution_count": 30,
   "id": "b09f65af-105c-4233-ac6d-a2340f7f7d1c",
   "metadata": {},
   "outputs": [],
   "source": [
    "# Split dataset into 15% test, 85% train \n",
    "x, x_test, y, y_test = train_test_split(x_data, y_data, test_size=0.15)\n",
    "x_train, x_valid, y_train, y_valid = train_test_split(x, y, test_size=0.15)"
   ]
  },
  {
   "cell_type": "code",
   "execution_count": 31,
   "id": "a7807b06-3882-42c7-aa2d-5af07a2ab2ca",
   "metadata": {},
   "outputs": [
    {
     "name": "stdout",
     "output_type": "stream",
     "text": [
      "shape train (554, 8), (554,) \n",
      "shape valid (98, 8), (98,) \n",
      "shape test (116, 8), (116,) \n"
     ]
    }
   ],
   "source": [
    "print('shape train {}, {} '.format(x_train.shape, y_train.shape))\n",
    "print('shape valid {}, {} '.format(x_valid.shape, y_valid.shape))\n",
    "print('shape test {}, {} '.format(x_test.shape, y_test.shape))"
   ]
  },
  {
   "cell_type": "code",
   "execution_count": 32,
   "id": "dd5766ea-b7a5-4a36-a714-e88b3bca9315",
   "metadata": {},
   "outputs": [],
   "source": [
    "x_train_clean, _data = replace_outliers_zeros(x_train, outlayers, zeros, mean_median=True)\n",
    "x_test_clean, _data = replace_outliers_zeros(x_test, outlayers, zeros, mean_median=True, data_to_replace=_data)\n",
    "x_valid_clean, _data = replace_outliers_zeros(x_valid, outlayers, zeros, mean_median=True, data_to_replace=_data)"
   ]
  },
  {
   "cell_type": "code",
   "execution_count": 58,
   "id": "bdd3af54-5dcb-4212-ad7e-ec008407df90",
   "metadata": {},
   "outputs": [],
   "source": [
    "x_train_clean, _norm_dict = normalize(x_train_clean, None)\n",
    "x_valid_clean, _norm_dict = normalize(x_valid_clean, _norm_dict)\n",
    "x_test_clean, _norm_dict = normalize(x_test_clean, _norm_dict)"
   ]
  },
  {
   "cell_type": "code",
   "execution_count": 34,
   "id": "99a4848e-aa81-49c7-b43f-29725a41b9cf",
   "metadata": {},
   "outputs": [
    {
     "data": {
      "text/html": [
       "<div>\n",
       "<style scoped>\n",
       "    .dataframe tbody tr th:only-of-type {\n",
       "        vertical-align: middle;\n",
       "    }\n",
       "\n",
       "    .dataframe tbody tr th {\n",
       "        vertical-align: top;\n",
       "    }\n",
       "\n",
       "    .dataframe thead th {\n",
       "        text-align: right;\n",
       "    }\n",
       "</style>\n",
       "<table border=\"1\" class=\"dataframe\">\n",
       "  <thead>\n",
       "    <tr style=\"text-align: right;\">\n",
       "      <th></th>\n",
       "      <th>Pregnancies</th>\n",
       "      <th>Glucose</th>\n",
       "      <th>BloodPressure</th>\n",
       "      <th>SkinThickness</th>\n",
       "      <th>Insulin</th>\n",
       "      <th>BMI</th>\n",
       "      <th>DiabetesPedigreeFunction</th>\n",
       "      <th>Age</th>\n",
       "    </tr>\n",
       "  </thead>\n",
       "  <tbody>\n",
       "    <tr>\n",
       "      <th>count</th>\n",
       "      <td>5.540000e+02</td>\n",
       "      <td>5.540000e+02</td>\n",
       "      <td>5.540000e+02</td>\n",
       "      <td>5.540000e+02</td>\n",
       "      <td>5.540000e+02</td>\n",
       "      <td>5.540000e+02</td>\n",
       "      <td>5.540000e+02</td>\n",
       "      <td>5.540000e+02</td>\n",
       "    </tr>\n",
       "    <tr>\n",
       "      <th>mean</th>\n",
       "      <td>-1.034071e-16</td>\n",
       "      <td>2.766289e-16</td>\n",
       "      <td>-5.913841e-16</td>\n",
       "      <td>-9.833289e-15</td>\n",
       "      <td>-3.407824e-15</td>\n",
       "      <td>-5.149311e-16</td>\n",
       "      <td>1.292187e-15</td>\n",
       "      <td>1.402809e-16</td>\n",
       "    </tr>\n",
       "    <tr>\n",
       "      <th>std</th>\n",
       "      <td>1.000904e+00</td>\n",
       "      <td>1.000904e+00</td>\n",
       "      <td>1.000904e+00</td>\n",
       "      <td>1.000904e+00</td>\n",
       "      <td>1.000904e+00</td>\n",
       "      <td>1.000904e+00</td>\n",
       "      <td>1.000904e+00</td>\n",
       "      <td>1.000904e+00</td>\n",
       "    </tr>\n",
       "    <tr>\n",
       "      <th>min</th>\n",
       "      <td>-1.126165e+00</td>\n",
       "      <td>-2.540267e+00</td>\n",
       "      <td>-2.463160e+00</td>\n",
       "      <td>-2.642986e+00</td>\n",
       "      <td>-2.357907e+00</td>\n",
       "      <td>-2.133562e+00</td>\n",
       "      <td>-1.181831e+00</td>\n",
       "      <td>-1.034400e+00</td>\n",
       "    </tr>\n",
       "    <tr>\n",
       "      <th>25%</th>\n",
       "      <td>-8.315968e-01</td>\n",
       "      <td>-7.348283e-01</td>\n",
       "      <td>-7.268215e-01</td>\n",
       "      <td>-4.832841e-01</td>\n",
       "      <td>-4.115781e-01</td>\n",
       "      <td>-7.140824e-01</td>\n",
       "      <td>-7.078564e-01</td>\n",
       "      <td>-7.839379e-01</td>\n",
       "    </tr>\n",
       "    <tr>\n",
       "      <th>50%</th>\n",
       "      <td>-2.424605e-01</td>\n",
       "      <td>-1.111314e-01</td>\n",
       "      <td>-1.942421e-02</td>\n",
       "      <td>1.485456e-02</td>\n",
       "      <td>1.773506e-01</td>\n",
       "      <td>4.183254e-02</td>\n",
       "      <td>-3.292922e-01</td>\n",
       "      <td>-3.665008e-01</td>\n",
       "    </tr>\n",
       "    <tr>\n",
       "      <th>75%</th>\n",
       "      <td>6.412441e-01</td>\n",
       "      <td>6.438701e-01</td>\n",
       "      <td>6.236642e-01</td>\n",
       "      <td>4.338497e-01</td>\n",
       "      <td>1.773506e-01</td>\n",
       "      <td>5.973936e-01</td>\n",
       "      <td>5.155521e-01</td>\n",
       "      <td>6.353484e-01</td>\n",
       "    </tr>\n",
       "    <tr>\n",
       "      <th>max</th>\n",
       "      <td>3.881494e+00</td>\n",
       "      <td>2.547787e+00</td>\n",
       "      <td>4.224960e+00</td>\n",
       "      <td>3.984045e+00</td>\n",
       "      <td>4.582775e+00</td>\n",
       "      <td>2.772901e+00</td>\n",
       "      <td>6.007810e+00</td>\n",
       "      <td>3.974845e+00</td>\n",
       "    </tr>\n",
       "  </tbody>\n",
       "</table>\n",
       "</div>"
      ],
      "text/plain": [
       "        Pregnancies       Glucose  BloodPressure  SkinThickness       Insulin  \\\n",
       "count  5.540000e+02  5.540000e+02   5.540000e+02   5.540000e+02  5.540000e+02   \n",
       "mean  -1.034071e-16  2.766289e-16  -5.913841e-16  -9.833289e-15 -3.407824e-15   \n",
       "std    1.000904e+00  1.000904e+00   1.000904e+00   1.000904e+00  1.000904e+00   \n",
       "min   -1.126165e+00 -2.540267e+00  -2.463160e+00  -2.642986e+00 -2.357907e+00   \n",
       "25%   -8.315968e-01 -7.348283e-01  -7.268215e-01  -4.832841e-01 -4.115781e-01   \n",
       "50%   -2.424605e-01 -1.111314e-01  -1.942421e-02   1.485456e-02  1.773506e-01   \n",
       "75%    6.412441e-01  6.438701e-01   6.236642e-01   4.338497e-01  1.773506e-01   \n",
       "max    3.881494e+00  2.547787e+00   4.224960e+00   3.984045e+00  4.582775e+00   \n",
       "\n",
       "                BMI  DiabetesPedigreeFunction           Age  \n",
       "count  5.540000e+02              5.540000e+02  5.540000e+02  \n",
       "mean  -5.149311e-16              1.292187e-15  1.402809e-16  \n",
       "std    1.000904e+00              1.000904e+00  1.000904e+00  \n",
       "min   -2.133562e+00             -1.181831e+00 -1.034400e+00  \n",
       "25%   -7.140824e-01             -7.078564e-01 -7.839379e-01  \n",
       "50%    4.183254e-02             -3.292922e-01 -3.665008e-01  \n",
       "75%    5.973936e-01              5.155521e-01  6.353484e-01  \n",
       "max    2.772901e+00              6.007810e+00  3.974845e+00  "
      ]
     },
     "execution_count": 34,
     "metadata": {},
     "output_type": "execute_result"
    }
   ],
   "source": [
    "x_train_clean.describe()"
   ]
  },
  {
   "cell_type": "markdown",
   "id": "bf03a4f2-ba7b-46c5-9fe2-89427884dcad",
   "metadata": {},
   "source": [
    "Primera prueba"
   ]
  },
  {
   "cell_type": "code",
   "execution_count": 35,
   "id": "d64e22b1-0f36-4185-98c3-d7b8d92f05a4",
   "metadata": {},
   "outputs": [],
   "source": [
    "def create_model(in_shape, optimizer_, metrics_, loss_, activation_='sigmoid'):\n",
    "    model = Sequential()\n",
    "    model.add(Dense(units=1, activation=activation_, input_shape=in_shape))\n",
    "    model.compile(optimizer=optimizer_,\n",
    "                  loss= loss_,\n",
    "                  metrics=metrics_)\n",
    "    return model"
   ]
  },
  {
   "cell_type": "code",
   "execution_count": 36,
   "id": "000be808-a8ed-4753-9ed5-39fbe7464e4b",
   "metadata": {},
   "outputs": [],
   "source": [
    "model = create_model(in_shape= (x_train_clean.shape[1],),\n",
    "                     optimizer_= SGD(momentum=0.9, learning_rate=0.1),\n",
    "                     metrics_ = [AUC()],\n",
    "                     loss_ = BinaryCrossentropy(from_logits=True))"
   ]
  },
  {
   "cell_type": "code",
   "execution_count": 37,
   "id": "da8bb4b7-805a-4af4-a92e-3e101f002f4a",
   "metadata": {},
   "outputs": [
    {
     "name": "stdout",
     "output_type": "stream",
     "text": [
      "Sobre train\n"
     ]
    },
    {
     "data": {
      "image/png": "[encoded data removed]",
      "text/plain": [
       "<Figure size 432x288 with 1 Axes>"
      ]
     },
     "metadata": {
      "needs_background": "light"
     },
     "output_type": "display_data"
    },
    {
     "name": "stdout",
     "output_type": "stream",
     "text": [
      "PRINCIPAL\n",
      "\tArea bajo la curva ROC: 0.8484897055180755\n",
      "SECUNDARIAS\n",
      "\tEspecificidad: 0.9455040871934605\n",
      "\tSesitividad: 0.4919786096256685\n",
      "\tValor predictivo positivo: 0.7850678733031674\n",
      "\tValor predictivo negativo: 0.8214285714285714\n",
      "Sobre validation\n"
     ]
    },
    {
     "data": {
      "image/png": "[encoded data removed]",
      "text/plain": [
       "<Figure size 432x288 with 1 Axes>"
      ]
     },
     "metadata": {
      "needs_background": "light"
     },
     "output_type": "display_data"
    },
    {
     "name": "stdout",
     "output_type": "stream",
     "text": [
      "PRINCIPAL\n",
      "\tArea bajo la curva ROC: 0.8122555410691004\n",
      "SECUNDARIAS\n",
      "\tEspecificidad: 0.9830508474576272\n",
      "\tSesitividad: 0.41025641025641024\n",
      "\tValor predictivo positivo: 0.7160493827160493\n",
      "\tValor predictivo negativo: 0.9411764705882353\n"
     ]
    }
   ],
   "source": [
    "model.fit(x_train_clean, y_train, epochs=40,shuffle=True, validation_data=(x_valid_clean, y_valid), verbose=0)\n",
    "verify_model(model, x_train_clean, y_train, x_valid_clean, y_valid)"
   ]
  },
  {
   "cell_type": "code",
   "execution_count": 38,
   "id": "9863230d-e80d-4c4c-9e35-0437e61d7da5",
   "metadata": {},
   "outputs": [],
   "source": [
    "def model_builder(hp):\n",
    "    model = Sequential()\n",
    "    model.add(Dense(units=1, activation='sigmoid', input_shape=(x_train_clean.shape[1],)))\n",
    "    \n",
    "    # Optimizadores a porbar\n",
    "    optimizer_type = hp.Choice('optimizer_type', values=['SGD', 'Adam']) \n",
    "    # Hyperparametros para porbar en el optimizador\n",
    "    _learning_rate_ = hp.Float('learning_rate', min_value=1e-3, max_value=3.3, sampling='LOG')\n",
    "    _momentum_ = hp.Choice('momentum', values=[0.5, 0.75, 0.85, 0.9, 0.99, 0.999])\n",
    "    \n",
    "    if optimizer_type == 'SGD':\n",
    "        _optimizer_ = SGD(learning_rate=_learning_rate_, momentum=_momentum_)\n",
    "    else:\n",
    "        _optimizer_ = Adam(learning_rate=_learning_rate_)\n",
    "    \n",
    "    _metrics_ = [AUC()]\n",
    "    _loss_ = BinaryCrossentropy(from_logits=True)\n",
    "    \n",
    "    model.compile(optimizer=_optimizer_,\n",
    "                  loss=_loss_,\n",
    "                  metrics=_metrics_)\n",
    "    \n",
    "    return model\n"
   ]
  },
  {
   "cell_type": "markdown",
   "id": "f5eb442a-c7c0-4f77-bd2a-d495c7316213",
   "metadata": {},
   "source": [
    "Sin alterar el dataser inicial y buscando la mejor combinacion de hyperparámetros"
   ]
  },
  {
   "cell_type": "code",
   "execution_count": 39,
   "id": "a71bbec5-af3f-4dd9-9540-fd068d825258",
   "metadata": {},
   "outputs": [
    {
     "name": "stdout",
     "output_type": "stream",
     "text": [
      "Trial 30 Complete [00h 00m 02s]\n",
      "val_auc: 0.504128634929657\n",
      "\n",
      "Best val_auc So Far: 0.6029987335205078\n",
      "Total elapsed time: 00h 00m 50s\n",
      "INFO:tensorflow:Oracle triggered exit\n",
      "best momentum 0.75\n",
      "best learning_rate 0.0018703817269442302\n",
      "best optimizer Adam\n",
      "Sobre train\n"
     ]
    },
    {
     "data": {
      "image/png": "[encoded data removed]",
      "text/plain": [
       "<Figure size 432x288 with 1 Axes>"
      ]
     },
     "metadata": {
      "needs_background": "light"
     },
     "output_type": "display_data"
    },
    {
     "name": "stdout",
     "output_type": "stream",
     "text": [
      "PRINCIPAL\n",
      "\tArea bajo la curva ROC: 0.43006600708155446\n",
      "SECUNDARIAS\n",
      "\tEspecificidad: 0.9673024523160763\n",
      "\tSesitividad: 0.06951871657754011\n",
      "\tValor predictivo positivo: 0.6710775047258979\n",
      "\tValor predictivo negativo: 0.52\n",
      "Sobre validation\n"
     ]
    },
    {
     "data": {
      "image/png": "[encoded data removed]",
      "text/plain": [
       "<Figure size 432x288 with 1 Axes>"
      ]
     },
     "metadata": {
      "needs_background": "light"
     },
     "output_type": "display_data"
    },
    {
     "name": "stdout",
     "output_type": "stream",
     "text": [
      "PRINCIPAL\n",
      "\tArea bajo la curva ROC: 0.36332029552368533\n",
      "SECUNDARIAS\n",
      "\tEspecificidad: 0.9152542372881356\n",
      "\tSesitividad: 0.07692307692307693\n",
      "\tValor predictivo positivo: 0.6\n",
      "\tValor predictivo negativo: 0.37499999999999994\n"
     ]
    }
   ],
   "source": [
    "best_model, hist, hyperparams = run_tunner(\"regresion_04_raw\", model_builder, x_train, y_train, x_valid, y_valid)\n",
    "\n",
    "print('best momentum',hyperparams.get('momentum'))\n",
    "print('best learning_rate',hyperparams.get('learning_rate'))\n",
    "print('best optimizer', hyperparams.get('optimizer_type'))\n",
    "\n",
    "verify_model(best_model, x_train, y_train, x_valid, y_valid)"
   ]
  },
  {
   "cell_type": "markdown",
   "id": "ea373ec9-055c-4a02-a4b0-69377f5e6320",
   "metadata": {},
   "source": [
    "Ahora aplicando el EDA y sacando los valores nulos y outlayers"
   ]
  },
  {
   "cell_type": "code",
   "execution_count": 59,
   "id": "df35d09e-e257-4815-b035-d016082f8d77",
   "metadata": {},
   "outputs": [
    {
     "name": "stdout",
     "output_type": "stream",
     "text": [
      "INFO:tensorflow:Reloading Oracle from existing project D:/Documents/Keras/models\\regresion_04_proc\\oracle.json\n",
      "INFO:tensorflow:Reloading Tuner from D:/Documents/Keras/models\\regresion_04_proc\\tuner0.json\n",
      "INFO:tensorflow:Oracle triggered exit\n",
      "best momentum 0.85\n",
      "best learning_rate 0.028476203359694054\n",
      "best optimizer Adam\n",
      "Sobre train\n"
     ]
    },
    {
     "data": {
      "image/png": "[encoded data removed]",
      "text/plain": [
       "<Figure size 432x288 with 1 Axes>"
      ]
     },
     "metadata": {
      "needs_background": "light"
     },
     "output_type": "display_data"
    },
    {
     "name": "stdout",
     "output_type": "stream",
     "text": [
      "PRINCIPAL\n",
      "\tArea bajo la curva ROC: 0.8418598551632692\n",
      "SECUNDARIAS\n",
      "\tEspecificidad: 0.9509536784741145\n",
      "\tSesitividad: 0.49732620320855614\n",
      "\tValor predictivo positivo: 0.7878103837471784\n",
      "\tValor predictivo negativo: 0.8378378378378378\n",
      "Sobre validation\n"
     ]
    },
    {
     "data": {
      "image/png": "[encoded data removed]",
      "text/plain": [
       "<Figure size 432x288 with 1 Axes>"
      ]
     },
     "metadata": {
      "needs_background": "light"
     },
     "output_type": "display_data"
    },
    {
     "name": "stdout",
     "output_type": "stream",
     "text": [
      "PRINCIPAL\n",
      "\tArea bajo la curva ROC: 0.8187744458930899\n",
      "SECUNDARIAS\n",
      "\tEspecificidad: 0.9661016949152542\n",
      "\tSesitividad: 0.41025641025641024\n",
      "\tValor predictivo positivo: 0.7125\n",
      "\tValor predictivo negativo: 0.8888888888888888\n"
     ]
    }
   ],
   "source": [
    "best_model, hist, hyperparams = run_tunner(\"regresion_04_proc\", model_builder, x_train_clean, y_train, x_valid_clean, y_valid)\n",
    "\n",
    "print('best momentum',hyperparams.get('momentum'))\n",
    "print('best learning_rate',hyperparams.get('learning_rate'))\n",
    "print('best optimizer', hyperparams.get('optimizer_type'))\n",
    "\n",
    "verify_model(best_model, x_train_clean, y_train, x_valid_clean, y_valid)"
   ]
  },
  {
   "cell_type": "markdown",
   "id": "40218b5f-6745-4ba6-aa45-3330d85074a3",
   "metadata": {},
   "source": [
    "Tambien probamos removiendo algunas columnas"
   ]
  },
  {
   "cell_type": "code",
   "execution_count": 43,
   "id": "4368b18a-ce52-41d8-8d70-82a7350ef58c",
   "metadata": {},
   "outputs": [],
   "source": [
    "col_to_remove = ['Pregnancies', 'BloodPressure', 'SkinThickness', 'Insulin', 'DiabetesPedigreeFunction']\n",
    "# ['Pregnancies', 'Glucose', 'BloodPressure', 'SkinThickness', 'BMI', 'DiabetesPedigreeFunction', 'Age']\n",
    "# ['Pregnancies', 'Glucose', 'BloodPressure', 'SkinThickness', 'Insulin','BMI', 'DiabetesPedigreeFunction', 'Age']\n",
    "x_train_reduce = x_train_clean.drop(col_to_remove, inplace=False, axis=1)\n",
    "x_valid_reduce = x_valid_clean.drop(col_to_remove, inplace=False, axis=1)\n",
    "\n",
    "def model_builder_2(hp):\n",
    "    model = Sequential()\n",
    "    model.add(Dense(units=1, activation='sigmoid', input_shape=(x_train_reduce.shape[1],)))\n",
    "    \n",
    "    # Optimizadores a porbar\n",
    "    optimizer_type = hp.Choice('optimizer_type', values=['SGD', 'Adam']) \n",
    "    # Hyperparametros para porbar en el optimizador\n",
    "    _learning_rate_ = hp.Float('learning_rate', min_value=1e-3, max_value=3.3, sampling='LOG')\n",
    "    _momentum_ = hp.Choice('momentum', values=[0.5, 0.75, 0.85, 0.9, 0.99, 0.999])\n",
    "    \n",
    "    if optimizer_type == 'SGD':\n",
    "        _optimizer_ = SGD(learning_rate=_learning_rate_, momentum=_momentum_)\n",
    "    else:\n",
    "        _optimizer_ = Adam(learning_rate=_learning_rate_)\n",
    "    \n",
    "    _metrics_ = [AUC()]\n",
    "    _loss_ = BinaryCrossentropy(from_logits=True)\n",
    "    \n",
    "    model.compile(optimizer=_optimizer_,\n",
    "                  loss=_loss_,\n",
    "                  metrics=_metrics_)\n",
    "    \n",
    "    return model\n"
   ]
  },
  {
   "cell_type": "code",
   "execution_count": 45,
   "id": "3d31a537-39e9-4012-821f-bf18de2171d1",
   "metadata": {},
   "outputs": [
    {
     "name": "stdout",
     "output_type": "stream",
     "text": [
      "Trial 30 Complete [00h 00m 03s]\n",
      "val_auc: 0.8055193424224854\n",
      "\n",
      "Best val_auc So Far: 0.8098652362823486\n",
      "Total elapsed time: 00h 00m 56s\n",
      "INFO:tensorflow:Oracle triggered exit\n",
      "best momentum 0.5\n",
      "best learning_rate 0.025595184730695563\n",
      "best optimizer Adam\n",
      "Sobre train\n"
     ]
    },
    {
     "data": {
      "image/png": "[encoded data removed]",
      "text/plain": [
       "<Figure size 432x288 with 1 Axes>"
      ]
     },
     "metadata": {
      "needs_background": "light"
     },
     "output_type": "display_data"
    },
    {
     "name": "stdout",
     "output_type": "stream",
     "text": [
      "PRINCIPAL\n",
      "\tArea bajo la curva ROC: 0.8317329408850487\n",
      "SECUNDARIAS\n",
      "\tEspecificidad: 0.9455040871934605\n",
      "\tSesitividad: 0.46524064171123\n",
      "\tValor predictivo positivo: 0.7762863534675615\n",
      "\tValor predictivo negativo: 0.8130841121495327\n",
      "Sobre validation\n"
     ]
    },
    {
     "data": {
      "image/png": "[encoded data removed]",
      "text/plain": [
       "<Figure size 432x288 with 1 Axes>"
      ]
     },
     "metadata": {
      "needs_background": "light"
     },
     "output_type": "display_data"
    },
    {
     "name": "stdout",
     "output_type": "stream",
     "text": [
      "PRINCIPAL\n",
      "\tArea bajo la curva ROC: 0.7948717948717949\n",
      "SECUNDARIAS\n",
      "\tEspecificidad: 0.9830508474576272\n",
      "\tSesitividad: 0.3333333333333333\n",
      "\tValor predictivo positivo: 0.6904761904761905\n",
      "\tValor predictivo negativo: 0.9285714285714285\n"
     ]
    }
   ],
   "source": [
    "best_model_process, hist, hyperparams = run_tunner(\"regresion_03_reduce\", model_builder_2, x_train_reduce, y_train, x_valid_reduce, y_valid)\n",
    "\n",
    "print('best momentum',hyperparams.get('momentum'))\n",
    "print('best learning_rate',hyperparams.get('learning_rate'))\n",
    "print('best optimizer', hyperparams.get('optimizer_type'))\n",
    "\n",
    "verify_model(best_model_process, x_train_reduce, y_train, x_valid_reduce, y_valid)"
   ]
  },
  {
   "cell_type": "code",
   "execution_count": 64,
   "id": "dbd30489-bed2-456e-ab02-ea8fa328d1fd",
   "metadata": {},
   "outputs": [],
   "source": [
    "def model_builder_init(hp):\n",
    "    model = Sequential()\n",
    "    initializer = GlorotNormal()\n",
    "    \n",
    "    model.add(Dense(units=1, kernel_initializer=initializer, activation='sigmoid', input_shape=(x_train_clean.shape[1],)))\n",
    "    \n",
    "    # Optimizadores a porbar\n",
    "    optimizer_type = hp.Choice('optimizer_type', values=['SGD', 'Adam']) \n",
    "    # Hyperparametros para porbar en el optimizador\n",
    "    _learning_rate_ = hp.Float('learning_rate', min_value=1e-3, max_value=3.3, sampling='LOG')\n",
    "    _momentum_ = hp.Choice('momentum', values=[0.5, 0.75, 0.85, 0.9, 0.99, 0.999])\n",
    "    \n",
    "    if optimizer_type == 'SGD':\n",
    "        _optimizer_ = SGD(learning_rate=_learning_rate_, momentum=_momentum_)\n",
    "    else:\n",
    "        _optimizer_ = Adam(learning_rate=_learning_rate_)\n",
    "    \n",
    "    _metrics_ = [AUC()]\n",
    "    _loss_ = BinaryCrossentropy(from_logits=True)\n",
    "    \n",
    "    model.compile(optimizer=_optimizer_,\n",
    "                  loss=_loss_,\n",
    "                  metrics=_metrics_)\n",
    "    \n",
    "    return model\n"
   ]
  },
  {
   "cell_type": "code",
   "execution_count": 65,
   "id": "df9b3728-a3b7-48c7-8d10-50029a4f47b8",
   "metadata": {
    "tags": []
   },
   "outputs": [
    {
     "name": "stdout",
     "output_type": "stream",
     "text": [
      "Trial 30 Complete [00h 00m 04s]\n",
      "val_auc: 0.6427639722824097\n",
      "\n",
      "Best val_auc So Far: 0.8070404529571533\n",
      "Total elapsed time: 00h 01m 03s\n",
      "INFO:tensorflow:Oracle triggered exit\n",
      "best momentum 0.5\n",
      "best learning_rate 2.747448179484898\n",
      "best optimizer SGD\n",
      "Sobre train\n"
     ]
    },
    {
     "data": {
      "image/png": "[encoded data removed]",
      "text/plain": [
       "<Figure size 432x288 with 1 Axes>"
      ]
     },
     "metadata": {
      "needs_background": "light"
     },
     "output_type": "display_data"
    },
    {
     "name": "stdout",
     "output_type": "stream",
     "text": [
      "PRINCIPAL\n",
      "\tArea bajo la curva ROC: 0.8427924055428464\n",
      "SECUNDARIAS\n",
      "\tEspecificidad: 0.9509536784741145\n",
      "\tSesitividad: 0.49732620320855614\n",
      "\tValor predictivo positivo: 0.7878103837471784\n",
      "\tValor predictivo negativo: 0.8378378378378378\n",
      "Sobre validation\n"
     ]
    },
    {
     "data": {
      "image/png": "[encoded data removed]",
      "text/plain": [
       "<Figure size 432x288 with 1 Axes>"
      ]
     },
     "metadata": {
      "needs_background": "light"
     },
     "output_type": "display_data"
    },
    {
     "name": "stdout",
     "output_type": "stream",
     "text": [
      "PRINCIPAL\n",
      "\tArea bajo la curva ROC: 0.816166883963494\n",
      "SECUNDARIAS\n",
      "\tEspecificidad: 0.9661016949152542\n",
      "\tSesitividad: 0.4358974358974359\n",
      "\tValor predictivo positivo: 0.7215189873417721\n",
      "\tValor predictivo negativo: 0.8947368421052632\n"
     ]
    }
   ],
   "source": [
    "best_model, hist, hyperparams = run_tunner(\"regresion_01_init\", model_builder_init, x_train_clean, y_train, x_valid_clean, y_valid)\n",
    "\n",
    "print('best momentum',hyperparams.get('momentum'))\n",
    "print('best learning_rate',hyperparams.get('learning_rate'))\n",
    "print('best optimizer', hyperparams.get('optimizer_type'))\n",
    "\n",
    "verify_model(best_model, x_train_clean, y_train, x_valid_clean, y_valid)"
   ]
  },
  {
   "cell_type": "markdown",
   "id": "a3203e64-be1e-4a9d-843a-7d3b97ccaeeb",
   "metadata": {},
   "source": [
    "# Early Stopping\n",
    "\n",
    "Detiene el entrenamiento de forma anticipada si se llega a cierto valor de un parametro determinado, en principio permite agilizar las pruebas al buscar hyperparámetros, descartanto rapidamenete las combinacion que converjan rapidamente a un valor esperado\n",
    "\n",
    "Los hyperparámetrso principales de este callback son:\n",
    "- monitor: indica la variable a monitorear (valga la redundancia)\n",
    "- min_delta: la minima diferencia que se considera como mejora\n",
    "- patience: cantidad de epochs sin mejoras antes de parar"
   ]
  },
  {
   "cell_type": "code",
   "execution_count": 46,
   "id": "014a7173-3740-429b-bb70-c1e2c6972a7f",
   "metadata": {},
   "outputs": [],
   "source": [
    "stop_early = EarlyStopping(monitor='val_auc', patience=15)"
   ]
  },
  {
   "cell_type": "code",
   "execution_count": 47,
   "id": "cb431cdd-0057-4e56-bfa9-2bc34e114b0b",
   "metadata": {},
   "outputs": [
    {
     "name": "stdout",
     "output_type": "stream",
     "text": [
      "Trial 30 Complete [00h 00m 04s]\n",
      "val_auc: 0.7448935508728027\n",
      "\n",
      "Best val_auc So Far: 0.8183398842811584\n",
      "Total elapsed time: 00h 01m 06s\n",
      "INFO:tensorflow:Oracle triggered exit\n",
      "best momentum 0.99\n",
      "best learning_rate 0.00473683101339036\n",
      "best optimizer Adam\n",
      "Sobre train\n"
     ]
    },
    {
     "data": {
      "image/png": "[encoded data removed]",
      "text/plain": [
       "<Figure size 432x288 with 1 Axes>"
      ]
     },
     "metadata": {
      "needs_background": "light"
     },
     "output_type": "display_data"
    },
    {
     "name": "stdout",
     "output_type": "stream",
     "text": [
      "PRINCIPAL\n",
      "\tArea bajo la curva ROC: 0.8273907531801425\n",
      "SECUNDARIAS\n",
      "\tEspecificidad: 0.8174386920980926\n",
      "\tSesitividad: 0.6149732620320856\n",
      "\tValor predictivo positivo: 0.8064516129032258\n",
      "\tValor predictivo negativo: 0.6318681318681318\n",
      "Sobre validation\n"
     ]
    },
    {
     "data": {
      "image/png": "[encoded data removed]",
      "text/plain": [
       "<Figure size 432x288 with 1 Axes>"
      ]
     },
     "metadata": {
      "needs_background": "light"
     },
     "output_type": "display_data"
    },
    {
     "name": "stdout",
     "output_type": "stream",
     "text": [
      "PRINCIPAL\n",
      "\tArea bajo la curva ROC: 0.7396784006953498\n",
      "SECUNDARIAS\n",
      "\tEspecificidad: 0.7966101694915254\n",
      "\tSesitividad: 0.5128205128205128\n",
      "\tValor predictivo positivo: 0.7121212121212122\n",
      "\tValor predictivo negativo: 0.625\n"
     ]
    }
   ],
   "source": [
    "early_model, hist, hyperparams = run_tunner(\"regresion_early_00\", model_builder, x_train_clean, y_train, x_valid_clean, y_valid, my_callbacks=[stop_early])\n",
    "\n",
    "# Get the optimal hyperparameters\n",
    "print('best momentum',hyperparams.get('momentum'))\n",
    "print('best learning_rate',hyperparams.get('learning_rate'))\n",
    "print('best optimizer', hyperparams.get('optimizer_type'))\n",
    "verify_model(early_model, x_train_clean, y_train, x_valid_clean, y_valid)"
   ]
  },
  {
   "cell_type": "markdown",
   "id": "30dd46d1-8c58-4eb0-bfd6-4dcaeb7f156c",
   "metadata": {},
   "source": [
    "Se puede ver que los resultados sobre el set de validación son similares, lo que fue beneficioso al utilizar el earlystopping fue la posibilidad de probar una mayor cantidad de combinaciónes de hyperparámetros en un tiempo similar, obteniendo asi una combinación de hyperparámetros más confiable"
   ]
  },
  {
   "cell_type": "markdown",
   "id": "d6e91571-5c03-4175-a94c-d3503a40ea63",
   "metadata": {},
   "source": [
    "# Learning Rate Scheduler\n",
    "\n",
    "Permite ajustar el learning rate en funcion del epoch que se esta trabajando, por lo tanto dependiendo la funcion de costos minimizarla de forma más rapida y eficiente???"
   ]
  },
  {
   "cell_type": "code",
   "execution_count": 51,
   "id": "786ed5b2-60fa-49a7-8062-e1883d61e3f9",
   "metadata": {},
   "outputs": [],
   "source": [
    "def schedule(epoch, lr):\n",
    "    if epoch < 5:\n",
    "        return lr\n",
    "    else:\n",
    "        return lr * np.exp(-0.1)"
   ]
  },
  {
   "cell_type": "code",
   "execution_count": 52,
   "id": "ac071c8c-9b84-44f2-ac3d-502b21d04209",
   "metadata": {},
   "outputs": [],
   "source": [
    "scheduler = LearningRateScheduler(schedule)"
   ]
  },
  {
   "cell_type": "code",
   "execution_count": 53,
   "id": "b567a868-158f-4156-a20d-d6e70846d473",
   "metadata": {},
   "outputs": [
    {
     "name": "stdout",
     "output_type": "stream",
     "text": [
      "Trial 30 Complete [00h 00m 01s]\n",
      "val_auc: 0.7379400730133057\n",
      "\n",
      "Best val_auc So Far: 0.8152977228164673\n",
      "Total elapsed time: 00h 01m 09s\n",
      "INFO:tensorflow:Oracle triggered exit\n",
      "best momentum 0.75\n",
      "best learning_rate 0.047893502652158366\n",
      "best optimizer Adam\n",
      "Sobre train\n"
     ]
    },
    {
     "data": {
      "image/png": "[encoded data removed]",
      "text/plain": [
       "<Figure size 432x288 with 1 Axes>"
      ]
     },
     "metadata": {
      "needs_background": "light"
     },
     "output_type": "display_data"
    },
    {
     "name": "stdout",
     "output_type": "stream",
     "text": [
      "PRINCIPAL\n",
      "\tArea bajo la curva ROC: 0.8470034533506243\n",
      "SECUNDARIAS\n",
      "\tEspecificidad: 0.9455040871934605\n",
      "\tSesitividad: 0.5026737967914439\n",
      "\tValor predictivo positivo: 0.7886363636363637\n",
      "\tValor predictivo negativo: 0.8245614035087719\n",
      "Sobre validation\n"
     ]
    },
    {
     "data": {
      "image/png": "[encoded data removed]",
      "text/plain": [
       "<Figure size 432x288 with 1 Axes>"
      ]
     },
     "metadata": {
      "needs_background": "light"
     },
     "output_type": "display_data"
    },
    {
     "name": "stdout",
     "output_type": "stream",
     "text": [
      "PRINCIPAL\n",
      "\tArea bajo la curva ROC: 0.8144285093437635\n",
      "SECUNDARIAS\n",
      "\tEspecificidad: 0.9830508474576272\n",
      "\tSesitividad: 0.4358974358974359\n",
      "\tValor predictivo positivo: 0.725\n",
      "\tValor predictivo negativo: 0.9444444444444444\n"
     ]
    }
   ],
   "source": [
    "schedule_model, hist, hyperparams = run_tunner(\"regresion_schedule_01\", model_builder, x_train_clean, y_train, x_valid_clean, y_valid, \n",
    "                                            my_callbacks=[scheduler])\n",
    "\n",
    "# Get the optimal hyperparameters\n",
    "print('best momentum',hyperparams.get('momentum'))\n",
    "print('best learning_rate',hyperparams.get('learning_rate'))\n",
    "print('best optimizer', hyperparams.get('optimizer_type'))\n",
    "verify_model(schedule_model, x_train_clean, y_train, x_valid_clean, y_valid)\n"
   ]
  },
  {
   "cell_type": "markdown",
   "id": "57385720-d426-4bd2-a599-5963dae39d96",
   "metadata": {},
   "source": [
    "# Model CheckPoint & Tensorboard"
   ]
  },
  {
   "cell_type": "markdown",
   "id": "7cebe1af-870c-48f2-888c-ceb70c64c9e2",
   "metadata": {},
   "source": [
    "# Tecnicas de Regularización\n",
    "\n",
    "*   Drop out\n",
    "\n",
    "Lleva a 0 algunas entradas de forma aleatorea, reduciendo el espacio de soluciones del sistema, buscando evitar el overfiting\n",
    "\n",
    "*   Regularización L1\n",
    "*   Regularización L2\n",
    "*   Batch Normalization\n"
   ]
  },
  {
   "cell_type": "code",
   "execution_count": 54,
   "id": "3b521b97-4e1a-4f76-ade7-1a096fb8c965",
   "metadata": {},
   "outputs": [],
   "source": [
    "def model_builder_drop(hp):\n",
    "    model = Sequential()\n",
    "    drop_out = hp.Choice('drop_out_rate', values = [0.01, 0.05, 0.1, 0.15, 0.2, 0.27, 0.39, 0.5] )\n",
    "    model.add(Dropout(rate=drop_out, input_shape=(x_train_clean.shape[1],)))\n",
    "    model.add(Dense(units=1, activation='sigmoid', input_shape=(x_train_clean.shape[1],)))\n",
    "    \n",
    "    # Optimizadores a porbar\n",
    "    optimizer_type = hp.Choice('optimizer_type', values=['SGD', 'Adam']) \n",
    "    # Hyperparametros para porbar en el optimizador\n",
    "    _learning_rate_ = hp.Float('learning_rate', min_value=1e-3, max_value=3.3, sampling='LOG')\n",
    "    _momentum_ = hp.Choice('momentum', values=[0.5, 0.75, 0.85, 0.9, 0.99, 0.999])\n",
    "    \n",
    "    if optimizer_type == 'SGD':\n",
    "        _optimizer_ = SGD(learning_rate=_learning_rate_, momentum=_momentum_)\n",
    "    else:\n",
    "        _optimizer_ = Adam(learning_rate=_learning_rate_)\n",
    "    \n",
    "    _metrics_ = [AUC()]\n",
    "    _loss_ = BinaryCrossentropy(from_logits=True)\n",
    "    \n",
    "    model.compile(optimizer=_optimizer_,\n",
    "                  loss=_loss_,\n",
    "                  metrics=_metrics_)\n",
    "    \n",
    "    return model\n"
   ]
  },
  {
   "cell_type": "code",
   "execution_count": 55,
   "id": "22f7cd5b-7ef4-4fed-9bcb-ae9c75440663",
   "metadata": {},
   "outputs": [
    {
     "name": "stdout",
     "output_type": "stream",
     "text": [
      "Trial 30 Complete [00h 00m 04s]\n",
      "val_auc: 0.7807475328445435\n",
      "\n",
      "Best val_auc So Far: 0.8042155504226685\n",
      "Total elapsed time: 00h 01m 06s\n",
      "INFO:tensorflow:Oracle triggered exit\n",
      "best momentum 0.75\n",
      "best learning_rate 0.12406767601844099\n",
      "best optimizer Adam\n",
      "best drop out rate 0.1\n",
      "Sobre train\n"
     ]
    },
    {
     "data": {
      "image/png": "[encoded data removed]",
      "text/plain": [
       "<Figure size 432x288 with 1 Axes>"
      ]
     },
     "metadata": {
      "needs_background": "light"
     },
     "output_type": "display_data"
    },
    {
     "name": "stdout",
     "output_type": "stream",
     "text": [
      "PRINCIPAL\n",
      "\tArea bajo la curva ROC: 0.8425519823981116\n",
      "SECUNDARIAS\n",
      "\tEspecificidad: 0.9536784741144414\n",
      "\tSesitividad: 0.48663101604278075\n",
      "\tValor predictivo positivo: 0.7847533632286996\n",
      "\tValor predictivo negativo: 0.8425925925925926\n",
      "Sobre validation\n"
     ]
    },
    {
     "data": {
      "image/png": "[encoded data removed]",
      "text/plain": [
       "<Figure size 432x288 with 1 Axes>"
      ]
     },
     "metadata": {
      "needs_background": "light"
     },
     "output_type": "display_data"
    },
    {
     "name": "stdout",
     "output_type": "stream",
     "text": [
      "PRINCIPAL\n",
      "\tArea bajo la curva ROC: 0.8198609300304215\n",
      "SECUNDARIAS\n",
      "\tEspecificidad: 0.9830508474576272\n",
      "\tSesitividad: 0.41025641025641024\n",
      "\tValor predictivo positivo: 0.7160493827160493\n",
      "\tValor predictivo negativo: 0.9411764705882353\n"
     ]
    }
   ],
   "source": [
    "drop_model, hist, hyperparams = run_tunner(\"regresion_drop_00\", model_builder_drop, x_train_clean, y_train, x_valid_clean, y_valid)\n",
    "\n",
    "print('best momentum',hyperparams.get('momentum'))\n",
    "print('best learning_rate',hyperparams.get('learning_rate'))\n",
    "print('best optimizer', hyperparams.get('optimizer_type'))\n",
    "print('best drop out rate', hyperparams.get('drop_out_rate'))\n",
    "\n",
    "verify_model(drop_model, x_train_clean, y_train, x_valid_clean, y_valid)"
   ]
  },
  {
   "cell_type": "code",
   "execution_count": null,
   "id": "31cc8e75-b6a1-4313-84c1-6871f53cb5db",
   "metadata": {},
   "outputs": [],
   "source": []
  }
 ],
 "metadata": {
  "kernelspec": {
   "display_name": "Python 3",
   "language": "python",
   "name": "python3"
  },
  "language_info": {
   "codemirror_mode": {
    "name": "ipython",
    "version": 3
   },
   "file_extension": ".py",
   "mimetype": "text/x-python",
   "name": "python",
   "nbconvert_exporter": "python",
   "pygments_lexer": "ipython3",
   "version": "3.8.8"
  }
 },
 "nbformat": 4,
 "nbformat_minor": 5
}
